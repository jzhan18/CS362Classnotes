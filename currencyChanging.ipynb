{
 "cells": [
  {
   "cell_type": "markdown",
   "metadata": {},
   "source": [
    "# Currency Changing"
   ]
  },
  {
   "cell_type": "markdown",
   "metadata": {},
   "source": [
    "## Recursive Solution"
   ]
  },
  {
   "cell_type": "code",
   "execution_count": 19,
   "metadata": {},
   "outputs": [],
   "source": [
    "from typing import List\n",
    "# denom - list of denomination in decreasing order\n",
    "# i - current denomination under examination\n",
    "# v - amount making change for\n",
    "def makechange(denom: List[int], i: int, v: int) -> int:\n",
    "    if i >= len(denom):\n",
    "        return v // denom[len(denom)-1]\n",
    "    if v == 0:\n",
    "        return 0\n",
    "    elif v == denom[i]:\n",
    "        return 1\n",
    "    elif denom[i] > v:\n",
    "        return makechange(denom, i+1, v)\n",
    "    else:\n",
    "        sol1 = 1 + makechange(denom, i, v - denom[i])\n",
    "        sol2 = makechange(denom, i+1, v)\n",
    "        return min(sol1, sol2)"
   ]
  },
  {
   "cell_type": "code",
   "execution_count": 20,
   "metadata": {},
   "outputs": [
    {
     "name": "stdout",
     "output_type": "stream",
     "text": [
      "5\n"
     ]
    }
   ],
   "source": [
    "# US currencies\n",
    "denom = [20, 10, 5, 1]\n",
    "print(makechange(denom, 0, 37))"
   ]
  },
  {
   "cell_type": "code",
   "execution_count": null,
   "metadata": {},
   "outputs": [],
   "source": []
  }
 ],
 "metadata": {
  "kernelspec": {
   "display_name": "Python 3",
   "language": "python",
   "name": "python3"
  },
  "language_info": {
   "codemirror_mode": {
    "name": "ipython",
    "version": 3
   },
   "file_extension": ".py",
   "mimetype": "text/x-python",
   "name": "python",
   "nbconvert_exporter": "python",
   "pygments_lexer": "ipython3",
   "version": "3.7.6"
  }
 },
 "nbformat": 4,
 "nbformat_minor": 4
}
