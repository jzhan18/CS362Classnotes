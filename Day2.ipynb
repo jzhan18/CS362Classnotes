{
 "cells": [
  {
   "cell_type": "markdown",
   "metadata": {},
   "source": [
    "# Day 2"
   ]
  },
  {
   "cell_type": "code",
   "execution_count": 29,
   "metadata": {},
   "outputs": [],
   "source": [
    "# returns the first factor of m that is greater than 1\n",
    "# f(15) == 3\n",
    "# f(77) == 7\n",
    "# f(23) == 23 \n",
    "def factor(m: int) -> int:\n",
    "    i = 2\n",
    "    while i*i < m:\n",
    "        if m % i == 0:\n",
    "            return i\n",
    "        i += 1\n",
    "    return m"
   ]
  },
  {
   "cell_type": "code",
   "execution_count": 30,
   "metadata": {},
   "outputs": [
    {
     "name": "stdout",
     "output_type": "stream",
     "text": [
      "True\n",
      "True\n",
      "True\n"
     ]
    }
   ],
   "source": [
    "print(factor(15) == 3)\n",
    "print(factor(77) == 7)\n",
    "print(factor(23) == 23)"
   ]
  },
  {
   "cell_type": "code",
   "execution_count": null,
   "metadata": {},
   "outputs": [],
   "source": [
    "1 2 1 2\n",
    "n-1 n-1 j\n",
    "2 3 1 3\n",
    "...\n",
    "n-1 n 1 \n",
    "\n",
    "n-1 n 1 n"
   ]
  }
 ],
 "metadata": {
  "kernelspec": {
   "display_name": "Python 3",
   "language": "python",
   "name": "python3"
  },
  "language_info": {
   "codemirror_mode": {
    "name": "ipython",
    "version": 3
   },
   "file_extension": ".py",
   "mimetype": "text/x-python",
   "name": "python",
   "nbconvert_exporter": "python",
   "pygments_lexer": "ipython3",
   "version": "3.8.3"
  }
 },
 "nbformat": 4,
 "nbformat_minor": 4
}
