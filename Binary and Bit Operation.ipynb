{
 "cells": [
  {
   "cell_type": "markdown",
   "metadata": {},
   "source": [
    "x << 1 left shift *2\n",
    "\n",
    "x >> 1 right shift /2\n",
    "\n",
    "eg. 9 * 2 = 18 is same as (binary) 1001 left shift by 1 and add 0 => 10010\n",
    "        9 / 2 = 4 --- 1001 right shift by 1 => 100"
   ]
  },
  {
   "cell_type": "code",
   "execution_count": 1,
   "metadata": {},
   "outputs": [],
   "source": [
    "# count the number of least significant zeros\n",
    "def count_lsz(x: int) -> int:\n",
    "    i = 0\n",
    "    while x&1 == 0:\n",
    "        i += 1\n",
    "        x >>= 1\n",
    "    return i"
   ]
  },
  {
   "cell_type": "code",
   "execution_count": 2,
   "metadata": {},
   "outputs": [],
   "source": [
    "def bitreverse(x: int) -> int:\n",
    "    tmp = 0\n",
    "    \n",
    "    while x > 0:\n",
    "        tmp = (tmp << 1) | (x&1)\n",
    "        x = x >> 1\n",
    "    return tmp"
   ]
  },
  {
   "cell_type": "markdown",
   "metadata": {},
   "source": [
    "# Binary Addition"
   ]
  },
  {
   "cell_type": "code",
   "execution_count": 5,
   "metadata": {},
   "outputs": [],
   "source": [
    "# addition using biwise only\n",
    "def add(x: int, y: int) -> int:\n",
    "    c = 0 # initial carry in\n",
    "    \n",
    "    # Starting r at 1 is a kludge so that when we shift in a one or zero we really shift something in.\n",
    "    r = 1 # result\n",
    "    \n",
    "    while x != 0 or y != 0:\n",
    "        a = x&1  # get most significant bit of x\n",
    "        b = y&1  # get most significant bit of y\n",
    "        s = a^b^c # compute the sum bit (^is exclusive or)\n",
    "        c = a&b | a&c | b&c # compute the new carry \n",
    "        r = (r << 1) | s # shift in the new sum bit\n",
    "        x = x >> 1 # shift out the least significant bits\n",
    "        y = y >> 1 # of x and y\n",
    "        \n",
    "    r = ((r << 1) | c) # shift in the final carry bit\n",
    "    \n",
    "    # the result bits were built up in reverse order.\n",
    "    # get rid of that initial 1 bit in the result.\n",
    "    return bitreverse(r) >> 1"
   ]
  },
  {
   "cell_type": "markdown",
   "metadata": {},
   "source": [
    "# Binary Multiplication"
   ]
  },
  {
   "cell_type": "code",
   "execution_count": 9,
   "metadata": {},
   "outputs": [],
   "source": [
    "def mult(x: int, y: int) -> int: # c1 + n + n + n(n + c2 + n + n + n) = c1 + 2n + n(c2 + 4n) = 4n^2 + (2 + c2)n + c1  O(n^2) n is the number of bits\n",
    "    prod = 0              # c1\n",
    "    multiplicand = x      # x is n bits, O(n)\n",
    "    multiplier = y        # y is n bits, O(n)\n",
    "    \n",
    "    # loop iterates O(n)\n",
    "    while multiplier > 0:  # O(n)\n",
    "        if multiplier & 1: # c2      check if odd\n",
    "            prod = prod + multiplicand  # addition is O(n)\n",
    "        multiplicand = multiplicand << 1  # O(n)\n",
    "        multiplier = multiplier >> 1      # O(n)\n",
    "    return prod"
   ]
  },
  {
   "cell_type": "code",
   "execution_count": 7,
   "metadata": {},
   "outputs": [
    {
     "data": {
      "text/plain": [
       "99"
      ]
     },
     "execution_count": 7,
     "metadata": {},
     "output_type": "execute_result"
    }
   ],
   "source": [
    "mult(11, 9)"
   ]
  },
  {
   "cell_type": "code",
   "execution_count": 8,
   "metadata": {},
   "outputs": [
    {
     "data": {
      "text/plain": [
       "597693001787660762999168816"
      ]
     },
     "execution_count": 8,
     "metadata": {},
     "output_type": "execute_result"
    }
   ],
   "source": [
    "mult(1234567, 484131684864135168848)"
   ]
  },
  {
   "cell_type": "markdown",
   "metadata": {},
   "source": [
    "# Recursive Multiply\n",
    "\n",
    "$x * y$"
   ]
  },
  {
   "cell_type": "code",
   "execution_count": 10,
   "metadata": {},
   "outputs": [],
   "source": [
    "# Multiply and divide by 2 replaced with shift left and right.\n",
    "def multiply(x: int, y: int) -> int:\n",
    "    if y == 0:\n",
    "        return 0\n",
    "    \n",
    "    z = multiply(x, y >> 1)\n",
    "    \n",
    "    if y & 1 == 0: # if y is even\n",
    "        return z << 1\n",
    "    else:\n",
    "        return x + (z << 1)"
   ]
  },
  {
   "cell_type": "markdown",
   "metadata": {},
   "source": [
    "eg. multiply(23, 77) -> (23, 38) -> (23, 19) -> (23, 9) -> (23, 4) -> (23, 2) -> (23, 1) -> (23, 0)\n",
    "\n",
    "         23+974*2     437*2     3+207*2   23+92*2     46*2     23*2    23+0      0"
   ]
  },
  {
   "cell_type": "code",
   "execution_count": 11,
   "metadata": {},
   "outputs": [
    {
     "data": {
      "text/plain": [
       "1771"
      ]
     },
     "execution_count": 11,
     "metadata": {},
     "output_type": "execute_result"
    }
   ],
   "source": [
    "multiply(23, 77)"
   ]
  },
  {
   "cell_type": "markdown",
   "metadata": {},
   "source": [
    "eg. multiply(9, 23) -> (9, 11) -> (9, 5) -> (9, 2) -> (9, 1) -> (9, 0)\n",
    "\n",
    "              9+99*2    9+45*2      9+18*2    9*2        9+0       0"
   ]
  },
  {
   "cell_type": "code",
   "execution_count": 12,
   "metadata": {},
   "outputs": [
    {
     "data": {
      "text/plain": [
       "207"
      ]
     },
     "execution_count": 12,
     "metadata": {},
     "output_type": "execute_result"
    }
   ],
   "source": [
    "multiply(9, 23)"
   ]
  },
  {
   "cell_type": "markdown",
   "metadata": {},
   "source": [
    "# Fast Exponentiation"
   ]
  },
  {
   "cell_type": "markdown",
   "metadata": {},
   "source": [
    "$$\n",
    "x^y = \\left\\{\n",
    "\\begin{array}\\\\ \n",
    "(x^{y/2})^2 & \\mbox{if y is even}  \\\\\n",
    "x(x^{(y-1)/2})^2 & \\mbox{if y is odd}  \\\\\n",
    "\\end{array}\n",
    "\\right.\n",
    "$$"
   ]
  },
  {
   "cell_type": "code",
   "execution_count": 3,
   "metadata": {},
   "outputs": [],
   "source": [
    "def fastpow(x: int, y: int) -> int:\n",
    "    if y == 0:\n",
    "        return 1\n",
    "    elif y & 1 == 0:\n",
    "        tmp = fastpow(x, y // 2)\n",
    "        return tmp*tmp\n",
    "    else:\n",
    "        tmp = fastpow(x, (y - 1) // 2)\n",
    "        return x * tmp *tmp"
   ]
  },
  {
   "cell_type": "code",
   "execution_count": 5,
   "metadata": {},
   "outputs": [
    {
     "data": {
      "text/plain": [
       "243"
      ]
     },
     "execution_count": 5,
     "metadata": {},
     "output_type": "execute_result"
    }
   ],
   "source": [
    "fastpow(23, 44)\n",
    "fastpow(3, 5)  # (3, 5) -> (3, 2) -> (3, 1) -> (3, 0)\n",
    "                # 3*9*9    9       3          1"
   ]
  },
  {
   "cell_type": "markdown",
   "metadata": {},
   "source": [
    "# Mystery"
   ]
  },
  {
   "cell_type": "code",
   "execution_count": 1,
   "metadata": {},
   "outputs": [],
   "source": [
    "# computes x**y\n",
    "# Let n be the # of bits in y      y = 2**n\n",
    "def mystery(x: int, y: int) -> int:\n",
    "    r = 1           # c1\n",
    "    \n",
    "    # loop iterates O(2**n)\n",
    "    while y > 0:    # n   checks every bit\n",
    "        r *= x      # n**2 + n   O(n**2)\n",
    "        y -= 1      # n + n         O(n)\n",
    "    \n",
    "    return r"
   ]
  },
  {
   "cell_type": "markdown",
   "metadata": {},
   "source": [
    "$C + 2^n(n + n^2 + n + n + n) = 4n * 2^n + n^2 * 2^n$"
   ]
  },
  {
   "cell_type": "code",
   "execution_count": null,
   "metadata": {},
   "outputs": [],
   "source": []
  }
 ],
 "metadata": {
  "kernelspec": {
   "display_name": "Python 3",
   "language": "python",
   "name": "python3"
  },
  "language_info": {
   "codemirror_mode": {
    "name": "ipython",
    "version": 3
   },
   "file_extension": ".py",
   "mimetype": "text/x-python",
   "name": "python",
   "nbconvert_exporter": "python",
   "pygments_lexer": "ipython3",
   "version": "3.8.3"
  }
 },
 "nbformat": 4,
 "nbformat_minor": 4
}
