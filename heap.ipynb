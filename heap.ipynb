{
 "cells": [
  {
   "cell_type": "code",
   "execution_count": 27,
   "metadata": {},
   "outputs": [],
   "source": [
    "from typing import List, Tuple, TypeVar\n",
    "Value = TypeVar(\"Value\")\n",
    "Key = TypeVar(\"Key\")\n",
    "class heap:\n",
    "    \n",
    "    def __init__(self, l: List[Tuple[Value, Key]] = []):\n",
    "        \n",
    "        self._h = l[:]\n",
    "        self._d = dict()\n",
    "        for i in range(len(self._h)):\n",
    "            self._d[self._h[i][1]] = i\n",
    "            \n",
    "        self.heapify()\n",
    "        \n",
    "    def heapify(self):\n",
    "        for i in range(self.parent(len(self._h)), -1, -1):\n",
    "            self.siftdown(i)\n",
    "            \n",
    "    def siftdown(self, i: int):\n",
    "        curr = i\n",
    "        \n",
    "        # keep sifting as long as the current node \n",
    "        # is greater tha one of the children\n",
    "        while (self.left(curr) < len(self._h) and \\\n",
    "               self._h[curr][0] > self.leftval(curr)[0]) or \\\n",
    "              (self.right(curr) < len(self._h) and \\\n",
    "               self._h[curr][0] > self.rightval(curr)[0]):\n",
    "\n",
    "            child = self.left(curr)\n",
    "            \n",
    "            # if we have a right is it smaller than the left?\n",
    "            if child < len(self._h) - 1 and \\\n",
    "                self.rightval(curr) < self.leftval(curr):\n",
    "                child = child + 1\n",
    "                \n",
    "            # child refers to the smaller of the children\n",
    "            \n",
    "            # swap the current node with the smaller child\n",
    "            (self._h[child], self._h[curr]) = (self._h[curr], self._h[child])\n",
    "            \n",
    "            # patch up the dictionary values\n",
    "            self._d[self._h[child][1]] = child\n",
    "            self._d[self._h[curr][1]]  = curr\n",
    "            curr = child\n",
    "            \n",
    "    def siftup(self, i: int) -> None:\n",
    "        curr = i\n",
    "        \n",
    "        while curr > 0 and self._h[curr] < self.parentval(curr):\n",
    "            (self._h[curr], self._h[self.parent(curr)]) = (self._h[self.parent(curr)], self._h[curr])\n",
    "        \n",
    "        self._d[self._h[curr][1]] = curr\n",
    "        self._d[self._h[self.parent(curr)]]  = self.parent(curr)\n",
    "        \n",
    "        curr = self.parent(curr)\n",
    "        \n",
    "    def insert(self, k: Key, v: Value)  -> None:\n",
    "        self._h.append((v, k))\n",
    "        self._d[k] = len(self._h) - 1\n",
    "        \n",
    "        self.siftup(len(self._h) - 1)\n",
    "        \n",
    "    def parent(self, i:int) -> int:\n",
    "        return (i - 1)//2\n",
    "    \n",
    "    def left(self, i: int) -> int:\n",
    "        return 2 * i + 1\n",
    "    \n",
    "    def right(self, i: int) -> int:\n",
    "        return 2 * i + 2\n",
    "    \n",
    "    def leftval(self, i: int) -> Tuple[Value,Key]:\n",
    "        return self._h[self.left(i)]\n",
    "    \n",
    "    def rightval(self, i: int) -> Tuple[Value,Key]:\n",
    "        return self._h[self.right(i)]\n",
    "    \n",
    "    def parentval(self, i: int) -> Tuple[Value, Key]:\n",
    "        return self._h[self.parent(i)]\n",
    "        "
   ]
  },
  {
   "cell_type": "code",
   "execution_count": 28,
   "metadata": {},
   "outputs": [
    {
     "name": "stdout",
     "output_type": "stream",
     "text": [
      "[(4, 'h'), (7, 'd'), (8, 'g'), (14, 'b'), (12, 'e'), (9, 'f'), (15, 'c'), (27, 'a'), (20, 'i')]\n",
      "{'a': 7, 'b': 3, 'c': 6, 'd': 1, 'e': 4, 'f': 5, 'g': 2, 'h': 0, 'i': 8}\n",
      "[(4, 'h'), (7, 'd'), (8, 'g'), (14, 'b'), (2, 'k'), (9, 'f'), (15, 'c'), (27, 'a'), (20, 'i'), (32, 'j'), (12, 'e')]\n",
      "{'a': 7, 'b': 3, 'c': 6, 'd': 1, 'e': 10, 'f': 5, 'g': 2, 'h': 0, 'i': 8, 'j': 9, (12, 'e'): 4, 'k': 10, (2, 'k'): 4}\n"
     ]
    }
   ],
   "source": [
    "# Sample main program\n",
    "l = [(27, 'a'), (14, 'b'), (15, 'c'), (7,'d'), (12,'e'), \n",
    "     (9,'f'), (8,'g'), (4,'h'), (20,'i')]\n",
    "h = heap(l)\n",
    "\n",
    "print(h._h)\n",
    "print(h._d)\n",
    "h.insert('j', 32)\n",
    "h.insert('k', 2)\n",
    "print(h._h)\n",
    "print(h._d)\n",
    "# h.decrease_key('a', 5)"
   ]
  },
  {
   "cell_type": "code",
   "execution_count": 11,
   "metadata": {},
   "outputs": [
    {
     "data": {
      "text/plain": [
       "True"
      ]
     },
     "execution_count": 11,
     "metadata": {},
     "output_type": "execute_result"
    }
   ],
   "source": [
    "(1,2) < (1,4)"
   ]
  },
  {
   "cell_type": "code",
   "execution_count": null,
   "metadata": {},
   "outputs": [],
   "source": []
  }
 ],
 "metadata": {
  "kernelspec": {
   "display_name": "Python 3",
   "language": "python",
   "name": "python3"
  },
  "language_info": {
   "codemirror_mode": {
    "name": "ipython",
    "version": 3
   },
   "file_extension": ".py",
   "mimetype": "text/x-python",
   "name": "python",
   "nbconvert_exporter": "python",
   "pygments_lexer": "ipython3",
   "version": "3.8.3"
  }
 },
 "nbformat": 4,
 "nbformat_minor": 4
}
