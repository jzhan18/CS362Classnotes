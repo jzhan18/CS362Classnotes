{
 "cells": [
  {
   "cell_type": "markdown",
   "metadata": {},
   "source": [
    "##### Symmetric Key Crypto\n",
    "\n",
    "# Asymmetric Key Crypto (Public Key Crypto)"
   ]
  },
  {
   "cell_type": "markdown",
   "metadata": {},
   "source": [
    "E(M, Bob's PublicK) -> D(C, Bob's PrivateK)\n",
    "\n",
    "1). p = 17, q = 23,  n = pq -> factor n to discover p and q  O(2**b)\n",
    "\n",
    "2). select a public exponent that is co-prime with (p-1)(q-1), the number of primes less than (p-1)(q-1)\n",
    "\n",
    "3). compute modular inverse $e\\mod (p-1)(q-1)$ using extended Euclidean Algorithm\n",
    "\n",
    "ed mod (p-1)(q-1) = 1\n",
    "\n",
    "Alice's Private Key is (d, n) = (235, 391)\n",
    "\n",
    "To encrypt:\n",
    "  E(M, Alice's PublicK) = $M^e \\mod n$\n",
    "  \n",
    "  Sending 101\n",
    "  \n",
    "  $101^3 \\mod 391 = 16$\n",
    "  \n",
    "To decrypt:\n",
    "  D(C, Alice's PrivateK) = $C^d \\mod n$\n",
    "  \n",
    "  $16^{235} \\mod 391 = 101$\n",
    "  "
   ]
  },
  {
   "cell_type": "code",
   "execution_count": 2,
   "metadata": {},
   "outputs": [
    {
     "data": {
      "text/plain": [
       "101"
      ]
     },
     "execution_count": 2,
     "metadata": {},
     "output_type": "execute_result"
    }
   ],
   "source": [
    "16**235 % 391"
   ]
  },
  {
   "cell_type": "code",
   "execution_count": null,
   "metadata": {},
   "outputs": [],
   "source": []
  }
 ],
 "metadata": {
  "kernelspec": {
   "display_name": "Python 3",
   "language": "python",
   "name": "python3"
  },
  "language_info": {
   "codemirror_mode": {
    "name": "ipython",
    "version": 3
   },
   "file_extension": ".py",
   "mimetype": "text/x-python",
   "name": "python",
   "nbconvert_exporter": "python",
   "pygments_lexer": "ipython3",
   "version": "3.8.3"
  }
 },
 "nbformat": 4,
 "nbformat_minor": 4
}
