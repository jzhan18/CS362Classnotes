{
 "cells": [
  {
   "cell_type": "markdown",
   "metadata": {},
   "source": [
    "# Edit Distance"
   ]
  },
  {
   "cell_type": "markdown",
   "metadata": {},
   "source": [
    "## Recursive Brute Force Solution"
   ]
  },
  {
   "cell_type": "code",
   "execution_count": 2,
   "metadata": {},
   "outputs": [],
   "source": [
    "def edit_distance(s: str, t: str) -> int:\n",
    "    \n",
    "    def distance(i: int, j: int) -> int:\n",
    "        if i == 0: return j   # s is empty, j insertions\n",
    "        if j == 0: return i   # t is empty, i deletions\n",
    "        \n",
    "        # case 1 - change\n",
    "        if s[i-1] == t[j-1]:\n",
    "            changes = distance(i-1, j-1)\n",
    "        else:\n",
    "            changes = 1 + distance(i-1, j-1)\n",
    "            \n",
    "        # case 2 - deletions\n",
    "        deletions = 1 + distance(i-1, j) \n",
    "        \n",
    "        # case 3 - insertions\n",
    "        insertions = 1 + distance(i, j-1)\n",
    "        \n",
    "        return min(changes, insertions, deletions)\n",
    "    \n",
    "    return distance(len(s), len(t))\n",
    "        "
   ]
  },
  {
   "cell_type": "code",
   "execution_count": 3,
   "metadata": {},
   "outputs": [
    {
     "name": "stdout",
     "output_type": "stream",
     "text": [
      "3\n"
     ]
    }
   ],
   "source": [
    "s = \"snowy\"\n",
    "t = \"sunny\"\n",
    "print(edit_distance(s,t))"
   ]
  },
  {
   "cell_type": "code",
   "execution_count": 4,
   "metadata": {},
   "outputs": [
    {
     "name": "stdout",
     "output_type": "stream",
     "text": [
      "6\n"
     ]
    }
   ],
   "source": [
    "s = 'polynomial'\n",
    "t = 'exponential'\n",
    "print(edit_distance(s,t))"
   ]
  },
  {
   "cell_type": "markdown",
   "metadata": {},
   "source": [
    "## Edit Distance - Dynamic Programming"
   ]
  },
  {
   "cell_type": "code",
   "execution_count": 1,
   "metadata": {},
   "outputs": [],
   "source": [
    "import numpy as np\n",
    "def edit_distance(s: str, t: str) -> int:\n",
    "    dist = np.zeros((len(s) + 1, len(t) + 1)) # (m+1)(n+1) O(mn)\n",
    "    # let m be len(s), n be len(t)\n",
    "    # initialize the first row\n",
    "    for j in range(len(t) + 1): dist[0][j] = j # O(n)\n",
    "        \n",
    "    # initialize the first column\n",
    "    for i in range(len(s) + 1): dist[i][0] = i # O(m)\n",
    "    \n",
    "    # O(mn)\n",
    "    for i in range(1, len(s)+1): # m\n",
    "        for j in range(1, len(t)+1): # n\n",
    "            dist[i][j] = min(\n",
    "                1 + dist[i-1][j], # deletion\n",
    "                1 + dist[i][j-1], # insertion\n",
    "                dist[i-1][j-1] + (0 if s[i-1] == t[j-1] else 1) # change\n",
    "            )\n",
    "    return dist \n",
    "    "
   ]
  },
  {
   "cell_type": "code",
   "execution_count": 6,
   "metadata": {},
   "outputs": [
    {
     "name": "stdout",
     "output_type": "stream",
     "text": [
      "[[0. 1. 2. 3.]\n",
      " [1. 0. 0. 0.]\n",
      " [2. 0. 0. 0.]\n",
      " [3. 0. 0. 0.]\n",
      " [4. 0. 0. 0.]\n",
      " [5. 0. 0. 0.]]\n"
     ]
    }
   ],
   "source": [
    "edit_distance(\"horse\", \"ror\")"
   ]
  },
  {
   "cell_type": "code",
   "execution_count": 2,
   "metadata": {},
   "outputs": [
    {
     "name": "stdout",
     "output_type": "stream",
     "text": [
      "[[0. 1. 2. 3. 4. 5.]\n",
      " [1. 1. 1. 2. 3. 4.]\n",
      " [2. 2. 2. 1. 2. 3.]\n",
      " [3. 3. 3. 2. 2. 3.]\n",
      " [4. 4. 4. 3. 3. 3.]\n",
      " [5. 5. 5. 4. 3. 4.]\n",
      " [6. 6. 6. 5. 4. 4.]]\n"
     ]
    }
   ],
   "source": [
    "print(edit_distance(\"repeal\", \"treat\"))"
   ]
  },
  {
   "cell_type": "code",
   "execution_count": null,
   "metadata": {},
   "outputs": [],
   "source": []
  }
 ],
 "metadata": {
  "kernelspec": {
   "display_name": "Python 3",
   "language": "python",
   "name": "python3"
  },
  "language_info": {
   "codemirror_mode": {
    "name": "ipython",
    "version": 3
   },
   "file_extension": ".py",
   "mimetype": "text/x-python",
   "name": "python",
   "nbconvert_exporter": "python",
   "pygments_lexer": "ipython3",
   "version": "3.7.6"
  }
 },
 "nbformat": 4,
 "nbformat_minor": 4
}
