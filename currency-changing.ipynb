{
 "cells": [
  {
   "cell_type": "code",
   "execution_count": 17,
   "metadata": {},
   "outputs": [],
   "source": [
    "from math import inf\n",
    "from typing import List\n",
    "\n",
    "def makechange(denom: List[int], i: int, amt: int) -> int:\n",
    "    if i >= len(denom):\n",
    "        return inf\n",
    "\n",
    "    if amt == 0:\n",
    "        return 0\n",
    "    elif denom[i] == amt:\n",
    "        return 1\n",
    "    elif denom[i] > amt:\n",
    "        return makechange(denom, i+1, amt)\n",
    "    else:\n",
    "        return min(\n",
    "            makechange(denom, i, amt - denom[i]) + 1,\n",
    "            makechange(denom, i+1, amt)\n",
    "        )"
   ]
  },
  {
   "cell_type": "code",
   "execution_count": 20,
   "metadata": {},
   "outputs": [
    {
     "name": "stdout",
     "output_type": "stream",
     "text": [
      "5\n",
      "2\n"
     ]
    }
   ],
   "source": [
    "denom = [20,10,5,1]\n",
    "print(makechange(denom, 0, 37))\n",
    "denom = [10, 6, 1]\n",
    "print(makechange(denom, 0, 12))"
   ]
  },
  {
   "cell_type": "code",
   "execution_count": 4,
   "metadata": {},
   "outputs": [],
   "source": [
    "from math import inf\n",
    "from typing import List\n",
    "\n",
    "def makechange(denom: List[int], amt: int) -> int:\n",
    "    \n",
    "    def change(i: int, amt:int) -> int:\n",
    "        if i >= len(denom):\n",
    "            return inf\n",
    "\n",
    "        if amt == 0:\n",
    "            return 0\n",
    "        elif denom[i] == amt:\n",
    "            return 1\n",
    "        elif denom[i] > amt:\n",
    "            return change(i+1, amt)\n",
    "        else:\n",
    "            return min(\n",
    "                change(i, amt - denom[i]) + 1,\n",
    "                change(i+1, amt)\n",
    "            )\n",
    "    \n",
    "    return change(0, amt)"
   ]
  },
  {
   "cell_type": "code",
   "execution_count": 10,
   "metadata": {},
   "outputs": [
    {
     "name": "stdout",
     "output_type": "stream",
     "text": [
      "5\n",
      "2\n"
     ]
    }
   ],
   "source": [
    "denom = [20,10,5,1]\n",
    "print(makechange(denom, 37))\n",
    "denom = [10, 6, 1]\n",
    "print(makechange(denom, 12))"
   ]
  },
  {
   "cell_type": "markdown",
   "metadata": {},
   "source": [
    "<img src=\"currency_table.jpg\" />"
   ]
  },
  {
   "cell_type": "markdown",
   "metadata": {},
   "source": [
    "### Currency Changing using Dynamic Programming"
   ]
  },
  {
   "cell_type": "code",
   "execution_count": 5,
   "metadata": {},
   "outputs": [],
   "source": [
    "import numpy as np\n",
    "\n",
    "def makechange(denom: List[int], amt: int) -> int:\n",
    "    c = np.zeros((len(denom), amt + 1))\n",
    "    n = len(denom)\n",
    "    \n",
    "    for i in range(amt+1):\n",
    "        c[n-1][i] = i\n",
    "        \n",
    "    for i in range(n-2, -1, -1):\n",
    "        for j in range(amt+1):\n",
    "            if denom[i] > j:\n",
    "                c[i][j] = c[i+1][j]\n",
    "            else:\n",
    "                c[i][j] = min(c[i+1][j], c[i][j - denom[i]] + 1)\n",
    "    \n",
    "    return int(c[0][amt])"
   ]
  },
  {
   "cell_type": "code",
   "execution_count": 9,
   "metadata": {},
   "outputs": [
    {
     "name": "stdout",
     "output_type": "stream",
     "text": [
      "5\n",
      "2\n"
     ]
    }
   ],
   "source": [
    "denom = [20,10,5,1]\n",
    "print(makechange(denom, 37))\n",
    "denom = [10, 6, 1]\n",
    "print(makechange(denom, 12))"
   ]
  }
 ],
 "metadata": {
  "kernelspec": {
   "display_name": "Python 3",
   "language": "python",
   "name": "python3"
  },
  "language_info": {
   "codemirror_mode": {
    "name": "ipython",
    "version": 3
   },
   "file_extension": ".py",
   "mimetype": "text/x-python",
   "name": "python",
   "nbconvert_exporter": "python",
   "pygments_lexer": "ipython3",
   "version": "3.7.6"
  }
 },
 "nbformat": 4,
 "nbformat_minor": 4
}
