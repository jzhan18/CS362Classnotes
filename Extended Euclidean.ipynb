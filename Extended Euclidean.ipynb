{
 "cells": [
  {
   "cell_type": "markdown",
   "metadata": {},
   "source": [
    "Function `egcd(a,b)` returns a triple $(d, x, y)$ such that $d = gcd(a,b)$ and $d = ax + by$."
   ]
  },
  {
   "cell_type": "code",
   "execution_count": 1,
   "metadata": {},
   "outputs": [
    {
     "name": "stdout",
     "output_type": "stream",
     "text": [
      "(30, -5, 59)\n",
      "(1, 3, -7)\n"
     ]
    }
   ],
   "source": [
    "from typing import Tuple\n",
    "def egcd(a: int, b: int) -> Tuple[int, int, int]:\n",
    "    if b == 0:\n",
    "        return (a, 1, 0)                          # the last row\n",
    "    else:\n",
    "        (d, x_, y_) = egcd(b, a % b)\n",
    "        (d, x, y) = (d, y_, x_ -a // b * y_)      # collect the coefficients\n",
    "        return (d, x, y)\n",
    "    \n",
    "print(egcd(4950, 420))\n",
    "print(egcd(26, 11))"
   ]
  },
  {
   "cell_type": "markdown",
   "metadata": {},
   "source": [
    "# Modular Inverse"
   ]
  },
  {
   "cell_type": "markdown",
   "metadata": {},
   "source": [
    "eg.\n",
    "modular inverse of 5 mod 7\n",
    "\n",
    "5d mod 7 = 1\n",
    "\n",
    "$d=3$"
   ]
  },
  {
   "cell_type": "markdown",
   "metadata": {},
   "source": [
    "##### Modular inverse does not always exist"
   ]
  },
  {
   "cell_type": "markdown",
   "metadata": {},
   "source": [
    "#### Theorem:\n",
    "The modular inverse of a mod b exists if gcd(a, b) = 1. (relatively prime)"
   ]
  },
  {
   "cell_type": "markdown",
   "metadata": {},
   "source": [
    "eg. gcd(26, 11) = 26x + 11y\n",
    "\n",
    "Find x and y, and the modular inverse of 26 mod 11\n",
    "\n",
    "(26, 11) -> (11, 4) -> (4, 3) -> (3, 1) -> (1, 0)\n",
    "\n",
    "26 = 11*2 + 4\n",
    "\n",
    "11 = 4*2 + 3\n",
    "\n",
    "4 = 3*1 + 1\n",
    "\n",
    "3 = 1*3 + 0\n",
    "\n",
    "1 = 4 + 3(-1) = 4 + (11 + 4(2))(-1) =...\n",
    "\n",
    "x = 3, y = -7\n",
    "\n",
    "modular inverse = 3\n"
   ]
  },
  {
   "cell_type": "markdown",
   "metadata": {},
   "source": [
    "eg. find gcd(11, 26)"
   ]
  },
  {
   "cell_type": "code",
   "execution_count": null,
   "metadata": {},
   "outputs": [],
   "source": []
  }
 ],
 "metadata": {
  "kernelspec": {
   "display_name": "Python 3",
   "language": "python",
   "name": "python3"
  },
  "language_info": {
   "codemirror_mode": {
    "name": "ipython",
    "version": 3
   },
   "file_extension": ".py",
   "mimetype": "text/x-python",
   "name": "python",
   "nbconvert_exporter": "python",
   "pygments_lexer": "ipython3",
   "version": "3.8.3"
  }
 },
 "nbformat": 4,
 "nbformat_minor": 4
}
