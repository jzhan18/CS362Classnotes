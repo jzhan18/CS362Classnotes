{
 "cells": [
  {
   "cell_type": "code",
   "execution_count": 9,
   "metadata": {},
   "outputs": [],
   "source": [
    "from typing import TypeVar, List, Dict, Tuple\n",
    "T = TypeVar(\"T\")\n",
    "\n",
    "class Graph:\n",
    "\n",
    "    def __init__(self):\n",
    "        self._vertices: Dict[T, List[T]] = {}\n",
    "\n",
    "    def add_edge(self, v: T, u: T) -> None:\n",
    "        if v not in self._vertices:\n",
    "            self._vertices[v] = []\n",
    "        if u not in self._vertices:\n",
    "            self._vertices[u] = []\n",
    "\n",
    "        self._vertices[v].append(u)\n",
    "        self._vertices[u].append(v)\n",
    "\n",
    "    # get the list of edges for vertex v\n",
    "    # get the list of edges for vertex v\n",
    "    def get_edges(self, v:T):\n",
    "        return self._vertices[v]\n",
    "\n",
    "    \n",
    "    # get a list of the vertices in the graph\n",
    "    def get_vertices(self) -> List[T]:\n",
    "        return self._vertices.keys()\n",
    "    \n",
    "    def edge_list(self) -> List[Tuple[T,T]]:\n",
    "        l = []\n",
    "        for v in self._vertices:\n",
    "            for e in self._vertices[v]:\n",
    "                l.append((v, e))\n",
    "        return l\n"
   ]
  },
  {
   "cell_type": "code",
   "execution_count": 10,
   "metadata": {},
   "outputs": [
    {
     "name": "stdout",
     "output_type": "stream",
     "text": [
      "dict_keys(['Seattle', 'Chicago', 'San Francisco', 'Riverside', 'Los Angeles', 'Phoenix', 'Dallas', 'Houston', 'Atlanta', 'Miami', 'Washington', 'Detroit', 'Boston', 'New York', 'Philadelphia', 'Montreal'])\n"
     ]
    }
   ],
   "source": [
    "# This is a sample Python script.\n",
    "\n",
    "# Press Shift+F10 to execute it or replace it with your code.\n",
    "# Press Double Shift to search everywhere for classes, files, tool windows, actions, and settings.\n",
    "from webweb import Web    # pip install webweb\n",
    "#from Graph import Graph\n",
    "\n",
    "\n",
    "def build_cities_graph():\n",
    "    cities = Graph()\n",
    "\n",
    "    cities.add_edge(\"Seattle\", \"Chicago\")\n",
    "    cities.add_edge(\"Seattle\", \"San Francisco\")\n",
    "    cities.add_edge(\"San Francisco\", \"Riverside\")\n",
    "    cities.add_edge(\"San Francisco\", \"Los Angeles\")\n",
    "    cities.add_edge(\"Los Angeles\", \"Riverside\")\n",
    "    cities.add_edge(\"Los Angeles\", \"Phoenix\")\n",
    "    cities.add_edge(\"Riverside\", \"Phoenix\")\n",
    "    cities.add_edge(\"Riverside\", \"Chicago\")\n",
    "    cities.add_edge(\"Phoenix\", \"Dallas\")\n",
    "    cities.add_edge(\"Phoenix\", \"Houston\")\n",
    "    cities.add_edge(\"Dallas\", \"Chicago\")\n",
    "    cities.add_edge(\"Dallas\", \"Atlanta\")\n",
    "    cities.add_edge(\"Dallas\", \"Houston\")\n",
    "    cities.add_edge(\"Houston\", \"Atlanta\")\n",
    "    cities.add_edge(\"Houston\", \"Miami\")\n",
    "    cities.add_edge(\"Atlanta\", \"Chicago\")\n",
    "    cities.add_edge(\"Atlanta\", \"Washington\")\n",
    "    cities.add_edge(\"Atlanta\", \"Miami\")\n",
    "    cities.add_edge(\"Miami\", \"Washington\")\n",
    "    cities.add_edge(\"Chicago\", \"Detroit\")\n",
    "    cities.add_edge(\"Detroit\", \"Boston\")\n",
    "    cities.add_edge(\"Detroit\", \"Washington\")\n",
    "    cities.add_edge(\"Detroit\", \"New York\")\n",
    "    cities.add_edge(\"Boston\", \"New York\")\n",
    "    cities.add_edge(\"New York\", \"Philadelphia\")\n",
    "    cities.add_edge(\"Philadelphia\", \"Washington\")\n",
    "    cities.add_edge(\"Boston\", \"Montreal\")\n",
    "    return cities\n",
    "\n",
    "\n",
    "# Press the green button in the gutter to run the script.\n",
    "if __name__ == '__main__':\n",
    "    g = build_cities_graph()\n",
    "    print(g.get_vertices())\n",
    "    edges = g.edge_list()\n",
    "    Web(edges).show()\n"
   ]
  },
  {
   "cell_type": "code",
   "execution_count": 13,
   "metadata": {},
   "outputs": [],
   "source": [
    "def dfs(g: Graph, v:T):\n",
    "\n",
    "    def explore(v:T):\n",
    "        visited[v] = True\n",
    "        order.append(v)\n",
    "\n",
    "        for e in g.get_edges(v):\n",
    "            if not visited[e]:\n",
    "                explore(e)\n",
    "\n",
    "    order = []\n",
    "    visited = {k : False for k in g.get_vertices()}\n",
    " \n",
    "    for v in g.get_vertices():\n",
    "        if not visited[v]:\n",
    "            explore(v)\n",
    "    return order"
   ]
  },
  {
   "cell_type": "code",
   "execution_count": 14,
   "metadata": {},
   "outputs": [
    {
     "name": "stdout",
     "output_type": "stream",
     "text": [
      "['a', 'b', 'e', 'f', 'c', 'i']\n"
     ]
    }
   ],
   "source": [
    "g = Graph()   # exercise 3.1 graph \n",
    "g.add_edge('a','b')\n",
    "g.add_edge('a','e')\n",
    "g.add_edge('b','b')\n",
    "g.add_edge('b','e')\n",
    "g.add_edge('c','f')\n",
    "g.add_edge('e','f')\n",
    "g.add_edge('f','i')\n",
    "print(dfs(g, 'a'))"
   ]
  },
  {
   "cell_type": "markdown",
   "metadata": {},
   "source": [
    "### Adding pre/post order numbering"
   ]
  },
  {
   "cell_type": "code",
   "execution_count": 19,
   "metadata": {},
   "outputs": [],
   "source": [
    "from typing import List, Tuple, TypeVar\n",
    "T = TypeVar(\"T\")\n",
    "\n",
    "def dfs(g: Graph, v:T) -> List[T]:\n",
    "\n",
    "    def explore(v: T) -> None:\n",
    "        nonlocal clock\n",
    "        visited[v] = True\n",
    "        order.append(v)\n",
    "        pre[v] = clock\n",
    "        clock += 1\n",
    "\n",
    "        for e in g.get_edges(v):\n",
    "            if not visited[e]:\n",
    "                edge_to[e] = v\n",
    "                explore(e)\n",
    "        post[v] = clock\n",
    "        clock += 1\n",
    "\n",
    "    order = []\n",
    "    visited = {k : False for k in g.get_vertices()}\n",
    "    pre = {}\n",
    "    post = {}\n",
    "    edge_to = {}\n",
    "    clock = 0\n",
    " \n",
    "    for v in g.get_vertices():\n",
    "        if not visited[v]:\n",
    "            explore(v)\n",
    "    return order, pre, post, edge_to"
   ]
  },
  {
   "cell_type": "code",
   "execution_count": 20,
   "metadata": {},
   "outputs": [],
   "source": [
    "order, pre, post, edge_to = dfs(g, 'a')"
   ]
  },
  {
   "cell_type": "code",
   "execution_count": 22,
   "metadata": {},
   "outputs": [
    {
     "data": {
      "text/plain": [
       "(['a', 'b', 'e', 'f', 'c', 'i'],\n",
       " {'a': 0, 'b': 1, 'e': 2, 'f': 3, 'c': 4, 'i': 6},\n",
       " {'c': 5, 'i': 7, 'f': 8, 'e': 9, 'b': 10, 'a': 11},\n",
       " {'b': 'a', 'e': 'b', 'f': 'e', 'c': 'f', 'i': 'f'})"
      ]
     },
     "execution_count": 22,
     "metadata": {},
     "output_type": "execute_result"
    }
   ],
   "source": [
    "order,pre,post,edge_to"
   ]
  },
  {
   "cell_type": "code",
   "execution_count": 27,
   "metadata": {},
   "outputs": [],
   "source": [
    "def path(edge_to, x:T, y:T):\n",
    "    s = []\n",
    "    curr = y\n",
    "    while curr != x:\n",
    "        s.append(curr)\n",
    "        curr = edge_to[curr]\n",
    "    s.append(x)\n",
    "    return s\n"
   ]
  },
  {
   "cell_type": "code",
   "execution_count": 30,
   "metadata": {},
   "outputs": [
    {
     "data": {
      "text/plain": [
       "['i', 'f', 'e', 'b', 'a']"
      ]
     },
     "execution_count": 30,
     "metadata": {},
     "output_type": "execute_result"
    }
   ],
   "source": [
    "path(edge_to, 'a', 'i')"
   ]
  },
  {
   "cell_type": "code",
   "execution_count": null,
   "metadata": {},
   "outputs": [],
   "source": []
  }
 ],
 "metadata": {
  "kernelspec": {
   "display_name": "Python 3",
   "language": "python",
   "name": "python3"
  },
  "language_info": {
   "codemirror_mode": {
    "name": "ipython",
    "version": 3
   },
   "file_extension": ".py",
   "mimetype": "text/x-python",
   "name": "python",
   "nbconvert_exporter": "python",
   "pygments_lexer": "ipython3",
   "version": "3.8.4"
  }
 },
 "nbformat": 4,
 "nbformat_minor": 4
}
