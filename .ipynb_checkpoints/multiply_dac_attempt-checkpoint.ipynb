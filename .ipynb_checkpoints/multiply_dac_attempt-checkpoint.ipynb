{
 "cells": [
  {
   "cell_type": "markdown",
   "metadata": {},
   "source": [
    "First Attempt at Divide and Conquer for binary multiplication algorithm. Trying to do better than the previous $\\Theta(n^2)$ implementation."
   ]
  },
  {
   "cell_type": "markdown",
   "metadata": {},
   "source": [
    "$$\n",
    "X\\cdot Y = A\\cdot C\\cdot 2^{n} + A\\cdot D\\cdot 2^{n/2} + B\\cdot C\\cdot 2^{n/2} + B\\cdot D\n",
    "$$"
   ]
  },
  {
   "cell_type": "code",
   "execution_count": 5,
   "metadata": {},
   "outputs": [],
   "source": [
    "def mult(x: int, y:int, n:int) -> int:\n",
    "    \n",
    "    if n == 1:   # one bit integer\n",
    "        return x & y\n",
    "    \n",
    "    A = x >> (n >> 1)  # left n//2 bits of x  O(n)\n",
    "    B = x & ((1 << (n >> 1)) - 1)  # right n//2 bits of x O(n)\n",
    "    C = y >> (n >> 1)  # left n//2 bits of y\n",
    "    D = y & ((1 << (n >> 1) - 1)  # right n//2 bits of y \n",
    "    \n",
    "    AC = mult(A, C, n >> 1)  \n",
    "    AD = mult(A, D, n >> 1)\n",
    "    BC = mult(B, C, n >> 1)\n",
    "    BD = mult(B, D, n >> 1)\n",
    "    XY = (AC << n) + ((AD + BC) << (n//2)) + BD\n",
    "    return XY\n",
    "    "
   ]
  },
  {
   "cell_type": "code",
   "execution_count": 6,
   "metadata": {},
   "outputs": [
    {
     "data": {
      "text/plain": [
       "1091025363072"
      ]
     },
     "execution_count": 6,
     "metadata": {},
     "output_type": "execute_result"
    }
   ],
   "source": [
    "mult(8837362, 123456, 128)"
   ]
  },
  {
   "cell_type": "code",
   "execution_count": null,
   "metadata": {},
   "outputs": [],
   "source": []
  }
 ],
 "metadata": {
  "kernelspec": {
   "display_name": "Python 3",
   "language": "python",
   "name": "python3"
  },
  "language_info": {
   "codemirror_mode": {
    "name": "ipython",
    "version": 3
   },
   "file_extension": ".py",
   "mimetype": "text/x-python",
   "name": "python",
   "nbconvert_exporter": "python",
   "pygments_lexer": "ipython3",
   "version": "3.8.3"
  }
 },
 "nbformat": 4,
 "nbformat_minor": 4
}
