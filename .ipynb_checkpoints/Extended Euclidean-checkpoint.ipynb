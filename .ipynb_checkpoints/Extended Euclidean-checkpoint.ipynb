{
 "cells": [
  {
   "cell_type": "markdown",
   "metadata": {},
   "source": [
    "Function `egcd(a,b)` returns a triple $(d, x, y)$ such that $d = gcd(a,b)$ and $d = ax + by$."
   ]
  },
  {
   "cell_type": "code",
   "execution_count": 2,
   "metadata": {},
   "outputs": [
    {
     "name": "stdout",
     "output_type": "stream",
     "text": [
      "(30, -5, 59)\n"
     ]
    }
   ],
   "source": [
    "from typing import Tuple\n",
    "def egcd(a: int, b: int) -> Tuple[int, int, int]:\n",
    "    if b == 0:\n",
    "        return (a, 1, 0)                          # the last row\n",
    "    else:\n",
    "        (d, x_, y_) = egcd(b, a % b)\n",
    "        (d, x, y) = (d, y_, x_ -a // b * y_)      # collect the coefficients\n",
    "        return (d, x, y)\n",
    "    \n",
    "print(egcd(4950, 420))"
   ]
  },
  {
   "cell_type": "markdown",
   "metadata": {},
   "source": [
    "# Modular Inverse"
   ]
  },
  {
   "cell_type": "markdown",
   "metadata": {},
   "source": [
    "eg.\n",
    "modular inverse of 5 mod 7\n",
    "\n",
    "5d mod 7 = 1\n",
    "\n",
    "$d=3$"
   ]
  },
  {
   "cell_type": "markdown",
   "metadata": {},
   "source": [
    "##### Modular inverse does not always exist"
   ]
  },
  {
   "cell_type": "markdown",
   "metadata": {},
   "source": [
    "#### Theorem:\n",
    "The modular inverse of a mod b exists if gcd(a, b) = 1. (relatively prime)"
   ]
  },
  {
   "cell_type": "code",
   "execution_count": null,
   "metadata": {},
   "outputs": [],
   "source": []
  }
 ],
 "metadata": {
  "kernelspec": {
   "display_name": "Python 3",
   "language": "python",
   "name": "python3"
  },
  "language_info": {
   "codemirror_mode": {
    "name": "ipython",
    "version": 3
   },
   "file_extension": ".py",
   "mimetype": "text/x-python",
   "name": "python",
   "nbconvert_exporter": "python",
   "pygments_lexer": "ipython3",
   "version": "3.8.3"
  }
 },
 "nbformat": 4,
 "nbformat_minor": 4
}
