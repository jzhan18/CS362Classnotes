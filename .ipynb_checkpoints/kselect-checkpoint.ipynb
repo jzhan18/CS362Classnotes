{
 "cells": [
  {
   "cell_type": "code",
   "execution_count": 9,
   "metadata": {},
   "outputs": [],
   "source": [
    "# K Selection"
   ]
  },
  {
   "cell_type": "code",
   "execution_count": 6,
   "metadata": {},
   "outputs": [],
   "source": [
    "import time\n",
    "def timeit(func):\n",
    "    \"\"\"\n",
    "    A decorator that times the function func with the arguments that\n",
    "    are passed to it\n",
    "    :param func: Function being timed\n",
    "    :return: func's result\n",
    "    \"\"\"\n",
    "    def clocked(*args, **kwargs):\n",
    "        t0 = time.perf_counter()\n",
    "        result = func(*args, **kwargs)\n",
    "        elapsed = time.perf_counter() - t0\n",
    "        name = func.__name__\n",
    "        #print('[%0.8fs] %s' % (elapsed, name))\n",
    "        return result, elapsed\n",
    "    return clocked\n"
   ]
  },
  {
   "cell_type": "markdown",
   "metadata": {},
   "source": [
    "Partition an array around a pivot element (the leftmost element). Modify the original\n",
    "array and return the location of the pivot"
   ]
  },
  {
   "cell_type": "code",
   "execution_count": 7,
   "metadata": {},
   "outputs": [],
   "source": [
    "#some modules we need\n",
    "\n",
    "from typing import List, TypeVar\n",
    "T = TypeVar('T')\n",
    "\n",
    "from random import randrange as rr"
   ]
  },
  {
   "cell_type": "code",
   "execution_count": 8,
   "metadata": {},
   "outputs": [],
   "source": [
    "def partition(arr: List[T], left: int, right: int) -> int:\n",
    "    r = rr(left, right+1)  # r is the pivot index\n",
    "    (arr[0], arr[r]) = (arr[r], arr[0])\n",
    "    \n",
    "    r = left\n",
    "    \n",
    "    # if we don't pick a random pivot then smaller values\n",
    "    # will migrate left, and subsequent pivot choices\n",
    "    # will be less good\n",
    "    pivot = arr[r] \n",
    "    \n",
    "    for i in range(left+1,right+1):\n",
    "        if arr[i] <= pivot:\n",
    "            r += 1  \n",
    "            (arr[i], arr[r]) = (arr[r], arr[i])\n",
    "    \n",
    "    (arr[left], arr[r]) = (arr[r], arr[left])\n",
    "    return r"
   ]
  },
  {
   "cell_type": "code",
   "execution_count": 9,
   "metadata": {},
   "outputs": [],
   "source": [
    "@timeit\n",
    "def select(lst: List[T], k:int) -> T:\n",
    "    \n",
    "    # Helper function to handle the divide-and-conquer\n",
    "    def select_(left: int, right: int):\n",
    "        if left == right:      #base case\n",
    "            return lst[left]\n",
    "        \n",
    "        r = partition(lst, left, right)\n",
    "        if r == k:\n",
    "            return lst[r]\n",
    "        elif k < r:\n",
    "            return select_(left, r - 1)\n",
    "        else:\n",
    "            return select_(r + 1, right)\n",
    "        \n",
    "    return select_(0, len(lst) - 1)"
   ]
  },
  {
   "cell_type": "code",
   "execution_count": 10,
   "metadata": {},
   "outputs": [],
   "source": [
    "@timeit\n",
    "def timsort_select(lst: List[T], k:int) -> T:\n",
    "    lst.sort() # don't use builtin sorted function because that makes copy of list\n",
    "    return lst[k]\n"
   ]
  },
  {
   "cell_type": "markdown",
   "metadata": {},
   "source": [
    "### Timing $O(n)$ K-Select\n",
    "Time O(n) select on 100 million items takes 20 sec."
   ]
  },
  {
   "cell_type": "code",
   "execution_count": 11,
   "metadata": {},
   "outputs": [
    {
     "name": "stdout",
     "output_type": "stream",
     "text": [
      "start\n",
      "500021922 25.0001491\n"
     ]
    }
   ],
   "source": [
    "n = int(1e8)\n",
    "lst = [rr(n*10) for _ in range(n+1)]\n",
    "print(\"start\")\n",
    "(rslt, t) = select(lst,len(lst)//2)\n",
    "print(rslt, t)"
   ]
  },
  {
   "cell_type": "markdown",
   "metadata": {},
   "source": [
    "### Timing $O(nlogn)$ K-Select implemented with Timsort \n",
    "Time O(nlogn) select on 100 million items takes 50 sec"
   ]
  },
  {
   "cell_type": "code",
   "execution_count": 6,
   "metadata": {},
   "outputs": [
    {
     "name": "stdout",
     "output_type": "stream",
     "text": [
      "499931079 49.26352240000001\n"
     ]
    }
   ],
   "source": [
    "n = int(1e8)\n",
    "lst = [rr(n*10) for _ in range(n+1)]\n",
    "(rslt, t) = timsort_select(lst,len(lst)//2)\n",
    "print(rslt, t)"
   ]
  },
  {
   "cell_type": "code",
   "execution_count": null,
   "metadata": {},
   "outputs": [],
   "source": [
    "import numpy as np\n",
    "from numpy.polynomial.polynomial import polyfit\n",
    "import matplotlib.pyplot as plt\n",
    "xs = np.asarray(xs)\n",
    "times_ks = np.asarray(times_ks)\n",
    "(b_ks,m_ks) = polyfit(xs, times_ks, 1)\n",
    "(b_ts,m_ts) = polyfit(xs, times_ts, 1)\n",
    "fig = plt.figure(\"K Select\", figsize=(10,10))  # top-level plot object\n",
    "\n",
    "ax = fig.add_subplot(111) # look up what 111 means\n",
    "ksplot = ax.plot(times_ks, label = \"K Select\")\n",
    "ks_linregressplot = ax.plot(xs, b_ks + m_ks * xs, '-')\n",
    "tsplot = ax.plot(times_ts, label = \"Tim Sort\")\n",
    "ts_linregressplot = ax.plot(xs, b_ts + m_ts * xs, '-')\n"
   ]
  }
 ],
 "metadata": {
  "kernelspec": {
   "display_name": "Python 3",
   "language": "python",
   "name": "python3"
  },
  "language_info": {
   "codemirror_mode": {
    "name": "ipython",
    "version": 3
   },
   "file_extension": ".py",
   "mimetype": "text/x-python",
   "name": "python",
   "nbconvert_exporter": "python",
   "pygments_lexer": "ipython3",
   "version": "3.8.4"
  }
 },
 "nbformat": 4,
 "nbformat_minor": 4
}
