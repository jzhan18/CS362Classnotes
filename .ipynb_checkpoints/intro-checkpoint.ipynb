{
 "cells": [
  {
   "cell_type": "markdown",
   "metadata": {},
   "source": [
    "# Introduction"
   ]
  },
  {
   "cell_type": "markdown",
   "metadata": {},
   "source": [
    "+ efficiency: time efficient, space efficient\n",
    "+ correct"
   ]
  },
  {
   "cell_type": "markdown",
   "metadata": {},
   "source": [
    "- string\n",
    "- image processing\n",
    "- cryptography, number algorithms\n",
    "- map data, graphs\n",
    "- face recognition\n",
    "- coronavirus, vaccine, DNA sequence"
   ]
  },
  {
   "cell_type": "markdown",
   "metadata": {},
   "source": [
    "# Kinds of Algorithms\n",
    "\n",
    "- classic algorithms\n",
    "- design technique\n",
    "- job interview"
   ]
  },
  {
   "cell_type": "markdown",
   "metadata": {},
   "source": [
    "# Complexity\n",
    "\n",
    "+ \"easy\" run in a reasonable amount of time. Searching a list\n",
    "+ \"hard\" run in an unreasonable amount of time"
   ]
  },
  {
   "cell_type": "markdown",
   "metadata": {},
   "source": [
    "# Subset sum problem\n",
    "\n",
    "S = {4, 9, 15, -7, 23, 6}\n",
    "\n",
    "Is there a subset of S that sums to some values X.\n",
    "\n",
    "X = 25 {4, 15, 6}\n",
    "\n",
    "X = 37 {15, -7, 23, 6}\n",
    "\n",
    "X = 49 no subset of S that sums 49.\n",
    "\n",
    "All of the subset of a set is called the *powerset* of S. Pow(S) has 64 subsets. $2^n$\n"
   ]
  },
  {
   "cell_type": "code",
   "execution_count": null,
   "metadata": {},
   "outputs": [],
   "source": []
  }
 ],
 "metadata": {
  "kernelspec": {
   "display_name": "Python 3",
   "language": "python",
   "name": "python3"
  },
  "language_info": {
   "codemirror_mode": {
    "name": "ipython",
    "version": 3
   },
   "file_extension": ".py",
   "mimetype": "text/x-python",
   "name": "python",
   "nbconvert_exporter": "python",
   "pygments_lexer": "ipython3",
   "version": "3.8.3"
  }
 },
 "nbformat": 4,
 "nbformat_minor": 4
}
