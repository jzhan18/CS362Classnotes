{
 "cells": [
  {
   "cell_type": "markdown",
   "metadata": {},
   "source": [
    "# Modular Arithmetic"
   ]
  },
  {
   "cell_type": "markdown",
   "metadata": {},
   "source": [
    "python:\n",
    "    \n",
    "    -7 % 6 = 5\n",
    "    -7 // 6 = -2 computes the floor\n",
    "    -8 % 13 = 5\n",
    "    -8 // 13 = -1"
   ]
  },
  {
   "cell_type": "markdown",
   "metadata": {},
   "source": [
    "(44 + 77) mod 11 =   44 mod 11 + 77 mod 11 "
   ]
  },
  {
   "cell_type": "markdown",
   "metadata": {},
   "source": [
    "\n",
    "$ab\\mod m = (a\\mod m) * (b\\mod m)\\mod m$\n",
    "\n",
    "$x^2\\mod m = (x\\mod m)(x\\mod m)\\mod m$\n",
    "\n",
    "$x^y\\mod m = (x\\mod m)...\\mod m$"
   ]
  },
  {
   "cell_type": "markdown",
   "metadata": {},
   "source": [
    "ex.\n",
    "$3^33\\mod 7 = 3*3^32\\mod 7 =(3\\mod 7) * ((3^2)^{16}\\mod 7)\\mod 7 = 3 * 2^16\\mod 7 = 6 * (2^3)^5\\mod 7 = 6$"
   ]
  },
  {
   "cell_type": "code",
   "execution_count": null,
   "metadata": {},
   "outputs": [],
   "source": []
  }
 ],
 "metadata": {
  "kernelspec": {
   "display_name": "Python 3",
   "language": "python",
   "name": "python3"
  },
  "language_info": {
   "codemirror_mode": {
    "name": "ipython",
    "version": 3
   },
   "file_extension": ".py",
   "mimetype": "text/x-python",
   "name": "python",
   "nbconvert_exporter": "python",
   "pygments_lexer": "ipython3",
   "version": "3.8.3"
  }
 },
 "nbformat": 4,
 "nbformat_minor": 4
}
