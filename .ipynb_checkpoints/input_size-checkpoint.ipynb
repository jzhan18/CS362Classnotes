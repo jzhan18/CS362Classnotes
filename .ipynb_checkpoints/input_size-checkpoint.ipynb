{
 "cells": [
  {
   "cell_type": "markdown",
   "metadata": {},
   "source": [
    "# Runtime Efficiency and the size of the input\n",
    "\n",
    "Write a function `find` that takes a list and returns the index of the first occurrence of a key in the list. If the key does not occur in the list then -1 is returned."
   ]
  },
  {
   "cell_type": "code",
   "execution_count": 6,
   "metadata": {},
   "outputs": [],
   "source": [
    "def find(lst, key):\n",
    "    loc = -1\n",
    "    \n",
    "    for i in range(len(lst)):\n",
    "        if key == lst[i]:\n",
    "            loc = i\n",
    "    return loc"
   ]
  },
  {
   "cell_type": "markdown",
   "metadata": {},
   "source": [
    "Let $n$ be the length of the list, then find is $O(n)$."
   ]
  },
  {
   "cell_type": "code",
   "execution_count": 5,
   "metadata": {},
   "outputs": [
    {
     "name": "stdout",
     "output_type": "stream",
     "text": [
      "False\n",
      "True\n",
      "True\n"
     ]
    }
   ],
   "source": [
    "lst = [99, 5, -3, 99]\n",
    "print(find(lst, 99) == 0) \n",
    "print(find(lst, 5) == 1) \n",
    "print(find(lst, -3) == 2) "
   ]
  },
  {
   "cell_type": "markdown",
   "metadata": {},
   "source": [
    "Subtle bug was that find returns the index of the $last$ occurrence, not the first"
   ]
  },
  {
   "cell_type": "code",
   "execution_count": 7,
   "metadata": {},
   "outputs": [],
   "source": [
    "def find(lst, key):\n",
    "    loc = -1\n",
    "    \n",
    "    for i in range(len(lst)):\n",
    "        if key == lst[i]:\n",
    "            return i\n",
    "    return loc"
   ]
  },
  {
   "cell_type": "code",
   "execution_count": 8,
   "metadata": {},
   "outputs": [
    {
     "name": "stdout",
     "output_type": "stream",
     "text": [
      "True\n",
      "True\n",
      "True\n"
     ]
    }
   ],
   "source": [
    "lst = [99, 5, -3, 99]\n",
    "print(find(lst, 99) == 0) \n",
    "print(find(lst, 5) == 1) \n",
    "print(find(lst, -3) == 2) "
   ]
  },
  {
   "cell_type": "markdown",
   "metadata": {},
   "source": [
    "+ Worst case efficiency\n",
    "+ Average case\n",
    "+ Best case"
   ]
  },
  {
   "cell_type": "markdown",
   "metadata": {},
   "source": [
    "Assume that the key is in the list and it has equal chance of being in any location.\n",
    "\n",
    "(1 + 2 + 3 + ... + n)/n = n(n+1)/2/n = (n+1)/2 is $O(n)$"
   ]
  },
  {
   "cell_type": "markdown",
   "metadata": {},
   "source": [
    "# Closest Pair of Points"
   ]
  },
  {
   "cell_type": "markdown",
   "metadata": {},
   "source": [
    "$Example$: Write a function that takes a list of points in the catesian plane and returns the indices of the two that are closest"
   ]
  },
  {
   "cell_type": "code",
   "execution_count": 10,
   "metadata": {},
   "outputs": [
    {
     "name": "stdout",
     "output_type": "stream",
     "text": [
      "[292, 16, 219, 247, 295, 7, 105, 236, 416, 251]\n",
      "[421, 142, 334, 415, 82, 17, 266, 250, 167, 38]\n"
     ]
    }
   ],
   "source": [
    "from random import randrange as rr, seed\n",
    "seed(10)\n",
    "X = [rr(500) for x in range(10)] # list comprehension\n",
    "Y = [rr(500) for y in range(10)]\n",
    "print(X)\n",
    "print(Y)"
   ]
  },
  {
   "cell_type": "code",
   "execution_count": 12,
   "metadata": {},
   "outputs": [
    {
     "data": {
      "image/png": "[encoded data removed]",
      "text/plain": [
       "<Figure size 432x288 with 1 Axes>"
      ]
     },
     "metadata": {
      "needs_background": "light"
     },
     "output_type": "display_data"
    }
   ],
   "source": [
    "import matplotlib.pyplot as plt\n",
    "plt.scatter(X, Y)\n",
    "plt.savefig('scatter.png')"
   ]
  },
  {
   "cell_type": "code",
   "execution_count": 19,
   "metadata": {},
   "outputs": [],
   "source": [
    "from typing import List, Tuple\n",
    "from math import inf, sqrt\n",
    "\n",
    "Point = Tuple[int, int] # create a type alias\n",
    "\n",
    "def distance(p1: Point, p2: Point) -> float:\n",
    "    return sqrt((p1[0] - p2[0])**2 + (p1[1] - p2[1])**2)\n",
    "\n",
    "# ps is a list of points\n",
    "def closest_pair(ps: List[Tuple[int, int]]) -> Tuple[int, int]:\n",
    "    small = inf\n",
    "    \n",
    "    for i in range(len(ps) - 1):\n",
    "        for j in range(i+1, len(ps)):\n",
    "            d = distance(ps[i], ps[j])\n",
    "            \n",
    "            if d < small:\n",
    "                small = d\n",
    "                p1 = i\n",
    "                p2 = j\n",
    "    return p1, p2\n",
    "    "
   ]
  },
  {
   "cell_type": "code",
   "execution_count": 15,
   "metadata": {},
   "outputs": [
    {
     "name": "stdout",
     "output_type": "stream",
     "text": [
      "[(292, 421), (16, 142), (219, 334), (247, 415), (295, 82), (7, 17), (105, 266), (236, 250), (416, 167), (251, 38)]\n"
     ]
    }
   ],
   "source": [
    "points = list(zip(X, Y))\n",
    "print(points)"
   ]
  },
  {
   "cell_type": "code",
   "execution_count": 20,
   "metadata": {},
   "outputs": [
    {
     "data": {
      "text/plain": [
       "(0, 3)"
      ]
     },
     "execution_count": 20,
     "metadata": {},
     "output_type": "execute_result"
    }
   ],
   "source": [
    "closest_pair(points)"
   ]
  },
  {
   "cell_type": "markdown",
   "metadata": {},
   "source": [
    "# String Algorithms"
   ]
  },
  {
   "cell_type": "markdown",
   "metadata": {},
   "source": [
    "Write a function `count` that counts and returns the number of occurrences of a character `ch` in a string `s`."
   ]
  },
  {
   "cell_type": "code",
   "execution_count": 21,
   "metadata": {},
   "outputs": [],
   "source": [
    "def counts(s: str, ch: str) -> int:\n",
    "    cnt = 0\n",
    "    \n",
    "    for c in s:\n",
    "        if c == ch:\n",
    "            cnt = cnt + 1\n",
    "    return cnt"
   ]
  },
  {
   "cell_type": "markdown",
   "metadata": {},
   "source": [
    "The size of the input is the length of the string. `n = len(s)`. `count` is $O(n)$."
   ]
  },
  {
   "cell_type": "markdown",
   "metadata": {},
   "source": [
    "# Algorithms on Numbers"
   ]
  },
  {
   "cell_type": "markdown",
   "metadata": {},
   "source": [
    "What does the following function compute?"
   ]
  },
  {
   "cell_type": "code",
   "execution_count": 22,
   "metadata": {},
   "outputs": [],
   "source": [
    "def mystery(x: int, y: int) -> int:\n",
    "    r = 0\n",
    "    \n",
    "    while y > 0:\n",
    "        r += x\n",
    "        y -= 1\n",
    "    return r"
   ]
  },
  {
   "cell_type": "code",
   "execution_count": null,
   "metadata": {},
   "outputs": [],
   "source": []
  }
 ],
 "metadata": {
  "kernelspec": {
   "display_name": "Python 3",
   "language": "python",
   "name": "python3"
  },
  "language_info": {
   "codemirror_mode": {
    "name": "ipython",
    "version": 3
   },
   "file_extension": ".py",
   "mimetype": "text/x-python",
   "name": "python",
   "nbconvert_exporter": "python",
   "pygments_lexer": "ipython3",
   "version": "3.8.3"
  }
 },
 "nbformat": 4,
 "nbformat_minor": 4
}
