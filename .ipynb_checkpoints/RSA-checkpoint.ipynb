{
 "cells": [
  {
   "cell_type": "markdown",
   "metadata": {},
   "source": [
    "# RSA"
   ]
  },
  {
   "cell_type": "code",
   "execution_count": 20,
   "metadata": {},
   "outputs": [],
   "source": [
    "from typing import Optional, Tuple\n",
    "\n",
    "# Extended Euclid\n",
    "# return integers (x,y,d) such that d = gcd(a,b)\n",
    "# and d = ax + by\n",
    "def mod_inv(a : int, b : int) -> Optional[int]:\n",
    "    \"\"\"\n",
    "    Compute the modular inverse of a mod b if it exists\n",
    "    :param a:  number  computing invers of\n",
    "    :param b:  mod\n",
    "    :return: modular inverse of a % b. If not exist then None.\n",
    "    \"\"\"\n",
    "    def ext_gcd(a: int, b: int) -> Tuple[int,int,int]:\n",
    "      if b == 0:\n",
    "        return (a,1,0)   # the last row\n",
    "      else:\n",
    "        (d, x_, y_) = ext_gcd(b, a % b)\n",
    "        (d,x,y) = (d, y_, x_ - a//b*y_)\n",
    "        return (d,x,y)\n",
    "\n",
    "    if gcd(a,b) != 1:\n",
    "        return None\n",
    "    else:\n",
    "        (d,x,y) = ext_gcd(a,b)\n",
    "        return x % b\n"
   ]
  },
  {
   "cell_type": "code",
   "execution_count": 10,
   "metadata": {},
   "outputs": [],
   "source": [
    "def gcd(x: int, y: int) -> int:\n",
    "    if y == 0:\n",
    "        return x    # gcd(x, 0) = x\n",
    "    else:\n",
    "        return gcd(y, x % y)"
   ]
  },
  {
   "cell_type": "code",
   "execution_count": 4,
   "metadata": {},
   "outputs": [],
   "source": [
    "# Compute x^y mod N in O(n^3) time\n",
    "# where n is the length of the\n",
    "# digits in bits\n",
    "def modexp(x: int, y:int, m: int) -> int:\n",
    "    if y == 0:\n",
    "        return 1\n",
    "    elif y & 1 == 0:\n",
    "        tmp = modexp(x, y >> 1, m)\n",
    "        return (tmp % m) * (tmp % m) %m\n",
    "    else:\n",
    "        tmp = modexp(x, y >> 1, m)\n",
    "        return (x % m)*(tmp % m) * (tmp % m) % m\n"
   ]
  },
  {
   "cell_type": "code",
   "execution_count": 5,
   "metadata": {},
   "outputs": [
    {
     "name": "stdout",
     "output_type": "stream",
     "text": [
      "True\n"
     ]
    }
   ],
   "source": [
    "print(modexp(345,456,789) == 345**456 % 789)"
   ]
  },
  {
   "cell_type": "markdown",
   "metadata": {},
   "source": [
    "The primality test in the inner function `primality` is the Converse of Fermat's Little Theorem. *if $N$ is prime then* $a^{N-1} \\mbox{ mod } N = 1$"
   ]
  },
  {
   "cell_type": "code",
   "execution_count": 6,
   "metadata": {},
   "outputs": [],
   "source": [
    "import random\n",
    "def probablyPrime(N:int) -> bool:\n",
    "    def primality(N : int) -> bool:\n",
    "        \"\"\"\n",
    "        This is the primality test from page 27 of Dasgupta. It represents the\n",
    "        converse of Fermat's Little Theorem.\n",
    "        :param N:\n",
    "        :return: False, N is definitely not prime.\n",
    "                 True, N is prime with probability <= 1/2.\n",
    "        \"\"\"\n",
    "        a = random.randrange(1,N)\n",
    "        return modexp(a,N-1,N) == 1\n",
    "\n",
    "    for i in range(200):\n",
    "        if primality(N):\n",
    "            continue\n",
    "        else:\n",
    "            return False\n",
    "    return True"
   ]
  },
  {
   "cell_type": "markdown",
   "metadata": {},
   "source": [
    "How many tries to find a 512 bit prime?"
   ]
  },
  {
   "cell_type": "code",
   "execution_count": 12,
   "metadata": {},
   "outputs": [
    {
     "name": "stdout",
     "output_type": "stream",
     "text": [
      "175814744949498772418613855217264085558627069437678714358916351340670897861136317076289317374481587607173475272845840510534202920314098780544045619143727850214836702372587931092011295853738072790517585337481599413111859366962882989511708388377986491665549164421240532708888586074167140032382158261706087805027\n",
      "Found prime in 393 attempts\n"
     ]
    }
   ],
   "source": [
    "i = 0\n",
    "while True:\n",
    "    x = random.randrange(2**1023-1,2**1024)\n",
    "    i += 1\n",
    "    if probablyPrime(x):\n",
    "        print(x)\n",
    "        print(\"Found prime in\", i, \"attempts\")\n",
    "        break"
   ]
  },
  {
   "cell_type": "markdown",
   "metadata": {},
   "source": []
  },
  {
   "cell_type": "code",
   "execution_count": 24,
   "metadata": {},
   "outputs": [],
   "source": [
    "from typing import Tuple\n",
    "\n",
    "# encrypt\n",
    "def E(m: int, en: Tuple[int,int]):\n",
    "    (e,n) = en\n",
    "    return modexp(m,e,n)\n",
    "\n",
    "#decrypt\n",
    "def D(c: int, dn: Tuple[int,int]) -> int:\n",
    "    (d,n) = dn\n",
    "    return modexp(c,d,n)\n"
   ]
  },
  {
   "cell_type": "markdown",
   "metadata": {},
   "source": [
    "Encrypt the message 'elephant shoes'"
   ]
  },
  {
   "cell_type": "code",
   "execution_count": 31,
   "metadata": {},
   "outputs": [],
   "source": [
    "Alice_Public = (3,391)\n",
    "M = 'elephant shoes'\n",
    "Ms = [ord(ch) for ch in M]\n",
    "C = [E(x, Alice_Public) for x in Ms]\n",
    "#Send C to Alice some how\n"
   ]
  },
  {
   "cell_type": "code",
   "execution_count": 33,
   "metadata": {},
   "outputs": [
    {
     "data": {
      "text/plain": [
       "'elephant shoes'"
      ]
     },
     "execution_count": 33,
     "metadata": {},
     "output_type": "execute_result"
    }
   ],
   "source": [
    "Alice_Private = (235, 391)\n",
    "\"\".join([chr(cp) for cp in [D(x, Alice_Private) for x in C]])\n"
   ]
  },
  {
   "cell_type": "code",
   "execution_count": 35,
   "metadata": {},
   "outputs": [
    {
     "data": {
      "text/plain": [
       "1"
      ]
     },
     "execution_count": 35,
     "metadata": {},
     "output_type": "execute_result"
    }
   ],
   "source": [
    "gcd(11,(630*420))"
   ]
  },
  {
   "cell_type": "code",
   "execution_count": 36,
   "metadata": {},
   "outputs": [],
   "source": [
    "Bob_Public = (11, 265651)\n",
    "Bob_Private = (216491,265651)"
   ]
  }
 ],
 "metadata": {
  "kernelspec": {
   "display_name": "Python 3",
   "language": "python",
   "name": "python3"
  },
  "language_info": {
   "codemirror_mode": {
    "name": "ipython",
    "version": 3
   },
   "file_extension": ".py",
   "mimetype": "text/x-python",
   "name": "python",
   "nbconvert_exporter": "python",
   "pygments_lexer": "ipython3",
   "version": "3.8.3"
  }
 },
 "nbformat": 4,
 "nbformat_minor": 4
}
