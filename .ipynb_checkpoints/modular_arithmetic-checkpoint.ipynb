{
 "cells": [
  {
   "cell_type": "markdown",
   "metadata": {},
   "source": [
    "# Modular Arithmetic\n",
    "\n",
    "## Section 1.2 pages 16 - 22"
   ]
  },
  {
   "cell_type": "markdown",
   "metadata": {},
   "source": [
    "### Euclid's Algorithm to find the Greatest Common Divisor"
   ]
  },
  {
   "cell_type": "code",
   "execution_count": 4,
   "metadata": {},
   "outputs": [],
   "source": [
    "def gcd(x: int, y: int) -> int:\n",
    "    if y == 0:\n",
    "        return x    # gcd(x, 0) = x\n",
    "    else:\n",
    "        return gcd(y, x % y)"
   ]
  },
  {
   "cell_type": "code",
   "execution_count": 5,
   "metadata": {},
   "outputs": [
    {
     "data": {
      "text/plain": [
       "15"
      ]
     },
     "execution_count": 5,
     "metadata": {},
     "output_type": "execute_result"
    }
   ],
   "source": [
    "gcd(15, 30)"
   ]
  },
  {
   "cell_type": "code",
   "execution_count": 6,
   "metadata": {},
   "outputs": [
    {
     "data": {
      "text/plain": [
       "3"
      ]
     },
     "execution_count": 6,
     "metadata": {},
     "output_type": "execute_result"
    }
   ],
   "source": [
    "gcd(27, 15)"
   ]
  },
  {
   "cell_type": "markdown",
   "metadata": {},
   "source": [
    "Function `egcd(a,b)` (for the *Extended Euclidean Algorithm*) returns a triple $(d,x,y)$ such that $d=gcd(a,b)$ and $d = ax + by$. This is covered on pages 21-22 of the textbook.\n",
    "\n"
   ]
  },
  {
   "cell_type": "code",
   "execution_count": 4,
   "metadata": {},
   "outputs": [
    {
     "name": "stdout",
     "output_type": "stream",
     "text": [
      "(30, -5, 59)\n"
     ]
    }
   ],
   "source": [
    "from typing import Tuple\n",
    "def egcd(a: int, b: int) -> Tuple[int,int,int]:\n",
    "  if b == 0:\n",
    "    return (a,1,0)                   # the last row\n",
    "  else:\n",
    "    (d, x_, y_) = egcd(b, a % b)\n",
    "    (d,x,y) = (d, y_, x_ - a//b*y_)  # collect the coefficients\n",
    "    return (d,x,y)\n",
    "\n",
    "print(egcd(4950, 420))"
   ]
  },
  {
   "cell_type": "markdown",
   "metadata": {},
   "source": [
    "## Naive modular inverse"
   ]
  },
  {
   "cell_type": "code",
   "execution_count": 2,
   "metadata": {},
   "outputs": [],
   "source": [
    "def modinv(x: int, y: int) -> int:\n",
    "    d = 0\n",
    "    while d < y:\n",
    "        if x*d % y == 1:\n",
    "            return d\n",
    "        d += 1\n",
    "    return None"
   ]
  },
  {
   "cell_type": "code",
   "execution_count": 6,
   "metadata": {},
   "outputs": [
    {
     "name": "stdout",
     "output_type": "stream",
     "text": [
      "19\n",
      "8\n"
     ]
    }
   ],
   "source": [
    "print(modinv(11,26))\n",
    "print(modinv(7,11))"
   ]
  },
  {
   "cell_type": "code",
   "execution_count": null,
   "metadata": {},
   "outputs": [],
   "source": []
  }
 ],
 "metadata": {
  "kernelspec": {
   "display_name": "Python 3",
   "language": "python",
   "name": "python3"
  },
  "language_info": {
   "codemirror_mode": {
    "name": "ipython",
    "version": 3
   },
   "file_extension": ".py",
   "mimetype": "text/x-python",
   "name": "python",
   "nbconvert_exporter": "python",
   "pygments_lexer": "ipython3",
   "version": "3.8.4"
  }
 },
 "nbformat": 4,
 "nbformat_minor": 4
}
