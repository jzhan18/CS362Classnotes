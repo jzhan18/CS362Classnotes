{
 "cells": [
  {
   "cell_type": "code",
   "execution_count": 1,
   "metadata": {},
   "outputs": [],
   "source": [
    "from typing import TypeVar, List, Dict, Tuple\n",
    "T = TypeVar(\"T\")\n",
    "\n",
    "class Graph:\n",
    "\n",
    "    def __init__(self):\n",
    "        self._vertices: Dict[T, List[T]] = {}\n",
    "\n",
    "    def add_edge(self, v: T, u: T) -> None:\n",
    "        if v not in self._vertices:\n",
    "            self._vertices[v] = []\n",
    "        if u not in self._vertices:\n",
    "            self._vertices[u] = []\n",
    "\n",
    "        self._vertices[v].append(u)\n",
    "        self._vertices[u].append(v)\n",
    "\n",
    "    # get the list of edges for vertex v\n",
    "    def get_edges(self, v:T):\n",
    "        return self._vertices[v]\n",
    "    \n",
    "    # get a list of the vertices in the graph\n",
    "    def get_vertices(self) -> List[T]:\n",
    "        return self._vertices.keys()\n",
    "    \n",
    "    def edge_list(self) -> List[Tuple[T,T]]:\n",
    "        l = []\n",
    "        for v in self._vertices:\n",
    "            for e in self._vertices[v]:\n",
    "                l.append((v, e))\n",
    "        return l\n",
    "    \n",
    "    def __str__(self):\n",
    "        r = \"\"\n",
    "        for u in self.get_vertices():\n",
    "            r += \"{0} --> [\".format(u)\n",
    "            for v in self.get_edges(u):\n",
    "                r+= \"{0}, \".format(v)\n",
    "            r += '{0}{0}]\\n'.format(chr(0x8))\n",
    "        return r\n",
    "            \n"
   ]
  },
  {
   "cell_type": "code",
   "execution_count": 2,
   "metadata": {},
   "outputs": [
    {
     "name": "stdout",
     "output_type": "stream",
     "text": [
      "dict_keys(['Seattle', 'Chicago', 'San Francisco', 'Riverside', 'Los Angeles', 'Phoenix', 'Dallas', 'Houston', 'Atlanta', 'Miami', 'Washington', 'Detroit', 'Boston', 'New York', 'Philadelphia', 'Montreal'])\n"
     ]
    }
   ],
   "source": [
    "# This is a sample Python script.\n",
    "\n",
    "# Press Shift+F10 to execute it or replace it with your code.\n",
    "# Press Double Shift to search everywhere for classes, files, tool windows, actions, and settings.\n",
    "#from webweb import Web    # pip install webweb\n",
    "#from Graph import Graph\n",
    "\n",
    "\n",
    "def build_cities_graph():\n",
    "    cities = Graph()\n",
    "\n",
    "    cities.add_edge(\"Seattle\", \"Chicago\")\n",
    "    cities.add_edge(\"Seattle\", \"San Francisco\")\n",
    "    cities.add_edge(\"San Francisco\", \"Riverside\")\n",
    "    cities.add_edge(\"San Francisco\", \"Los Angeles\")\n",
    "    cities.add_edge(\"Los Angeles\", \"Riverside\")\n",
    "    cities.add_edge(\"Los Angeles\", \"Phoenix\")\n",
    "    cities.add_edge(\"Riverside\", \"Phoenix\")\n",
    "    cities.add_edge(\"Riverside\", \"Chicago\")\n",
    "    cities.add_edge(\"Phoenix\", \"Dallas\")\n",
    "    cities.add_edge(\"Phoenix\", \"Houston\")\n",
    "    cities.add_edge(\"Dallas\", \"Chicago\")\n",
    "    cities.add_edge(\"Dallas\", \"Atlanta\")\n",
    "    cities.add_edge(\"Dallas\", \"Houston\")\n",
    "    cities.add_edge(\"Houston\", \"Atlanta\")\n",
    "    cities.add_edge(\"Houston\", \"Miami\")\n",
    "    cities.add_edge(\"Atlanta\", \"Chicago\")\n",
    "    cities.add_edge(\"Atlanta\", \"Washington\")\n",
    "    cities.add_edge(\"Atlanta\", \"Miami\")\n",
    "    cities.add_edge(\"Miami\", \"Washington\")\n",
    "    cities.add_edge(\"Chicago\", \"Detroit\")\n",
    "    cities.add_edge(\"Detroit\", \"Boston\")\n",
    "    cities.add_edge(\"Detroit\", \"Washington\")\n",
    "    cities.add_edge(\"Detroit\", \"New York\")\n",
    "    cities.add_edge(\"Boston\", \"New York\")\n",
    "    cities.add_edge(\"New York\", \"Philadelphia\")\n",
    "    cities.add_edge(\"Philadelphia\", \"Washington\")\n",
    "    cities.add_edge(\"Boston\", \"Montreal\")\n",
    "    return cities\n",
    "\n",
    "\n",
    "# Press the green button in the gutter to run the script.\n",
    "if __name__ == '__main__':\n",
    "    g = build_cities_graph()\n",
    "    print(g.get_vertices())\n",
    "    edges = g.edge_list()\n",
    "    #Web(edges).show()\n"
   ]
  },
  {
   "cell_type": "code",
   "execution_count": 3,
   "metadata": {},
   "outputs": [
    {
     "name": "stdout",
     "output_type": "stream",
     "text": [
      "Seattle --> [Chicago, San Francisco]\n",
      "Chicago --> [Seattle, Riverside, Dallas, Atlanta, Detroit]\n",
      "San Francisco --> [Seattle, Riverside, Los Angeles]\n",
      "Riverside --> [San Francisco, Los Angeles, Phoenix, Chicago]\n",
      "Los Angeles --> [San Francisco, Riverside, Phoenix]\n",
      "Phoenix --> [Los Angeles, Riverside, Dallas, Houston]\n",
      "Dallas --> [Phoenix, Chicago, Atlanta, Houston]\n",
      "Houston --> [Phoenix, Dallas, Atlanta, Miami]\n",
      "Atlanta --> [Dallas, Houston, Chicago, Washington, Miami]\n",
      "Miami --> [Houston, Atlanta, Washington]\n",
      "Washington --> [Atlanta, Miami, Detroit, Philadelphia]\n",
      "Detroit --> [Chicago, Boston, Washington, New York]\n",
      "Boston --> [Detroit, New York, Montreal]\n",
      "New York --> [Detroit, Boston, Philadelphia]\n",
      "Philadelphia --> [New York, Washington]\n",
      "Montreal --> [Boston]\n",
      "\n"
     ]
    }
   ],
   "source": [
    "print(g)"
   ]
  },
  {
   "cell_type": "code",
   "execution_count": 4,
   "metadata": {},
   "outputs": [
    {
     "ename": "ModuleNotFoundError",
     "evalue": "No module named 'graphviz'",
     "output_type": "error",
     "traceback": [
      "\u001b[1;31m---------------------------------------------------------------------------\u001b[0m",
      "\u001b[1;31mModuleNotFoundError\u001b[0m                       Traceback (most recent call last)",
      "\u001b[1;32m<ipython-input-4-5f325d207a62>\u001b[0m in \u001b[0;36m<module>\u001b[1;34m\u001b[0m\n\u001b[1;32m----> 1\u001b[1;33m \u001b[1;32mimport\u001b[0m \u001b[0mgraphviz\u001b[0m\u001b[1;33m\u001b[0m\u001b[1;33m\u001b[0m\u001b[0m\n\u001b[0m\u001b[0;32m      2\u001b[0m \u001b[1;31m# conda install graphviz\u001b[0m\u001b[1;33m\u001b[0m\u001b[1;33m\u001b[0m\u001b[1;33m\u001b[0m\u001b[0m\n\u001b[0;32m      3\u001b[0m \u001b[1;31m# conda install python-graphiz\u001b[0m\u001b[1;33m\u001b[0m\u001b[1;33m\u001b[0m\u001b[1;33m\u001b[0m\u001b[0m\n\u001b[0;32m      4\u001b[0m \u001b[1;33m\u001b[0m\u001b[0m\n\u001b[0;32m      5\u001b[0m \u001b[1;32mdef\u001b[0m \u001b[0mg2gviz\u001b[0m\u001b[1;33m(\u001b[0m\u001b[0mg\u001b[0m\u001b[1;33m:\u001b[0m \u001b[0mGraph\u001b[0m\u001b[1;33m,\u001b[0m \u001b[0mfn\u001b[0m\u001b[1;33m:\u001b[0m \u001b[0mstr\u001b[0m\u001b[1;33m)\u001b[0m \u001b[1;33m->\u001b[0m \u001b[1;32mNone\u001b[0m\u001b[1;33m:\u001b[0m\u001b[1;33m\u001b[0m\u001b[1;33m\u001b[0m\u001b[0m\n",
      "\u001b[1;31mModuleNotFoundError\u001b[0m: No module named 'graphviz'"
     ]
    }
   ],
   "source": [
    "import graphviz\n",
    "# conda install graphviz\n",
    "# conda install python-graphiz\n",
    "\n",
    "def g2gviz(g: Graph, fn: str) -> None:\n",
    "    gv = graphviz.Graph(format = 'png', filename = fn)\n",
    "    edges = g.edge_list()\n",
    "    nodups = []\n",
    "    for (u,v) in edges:\n",
    "        if (v,u) not in nodups:\n",
    "            nodups.append((u,v))\n",
    "        \n",
    "    for (u,v) in nodups:\n",
    "        gv.edge(u,v)\n",
    "        \n",
    "    return gv"
   ]
  },
  {
   "cell_type": "code",
   "execution_count": null,
   "metadata": {},
   "outputs": [],
   "source": [
    "gv = g2gviz(g,'states.png')\n",
    "gv"
   ]
  },
  {
   "cell_type": "code",
   "execution_count": null,
   "metadata": {},
   "outputs": [],
   "source": [
    "def dfs(g: Graph, v:T) -> Tuple[List[T], Dict[T,int], Dict[T, int]]:\n",
    "\n",
    "    def explore(v:T):\n",
    "        nonlocal clock # clock is defined in the outer scope\n",
    "        visited[v] = True\n",
    "        order.append(v)\n",
    "        pre[v] = clock\n",
    "        clock += 1\n",
    "        \n",
    "        for e in g.get_edges(v):\n",
    "            if e not in visited:\n",
    "                explore(e)\n",
    "                \n",
    "        post[v] = clock\n",
    "        clock += 1\n",
    "\n",
    "    order = []         \n",
    "    visited = dict()\n",
    "    pre = dict()      # prevsit numbers\n",
    "    post = dict()     # postvisit numbers\n",
    "    clock = 0         # counter for numbers pre/post visits\n",
    "    \n",
    "    explore(v)\n",
    "    \n",
    "    for v in g.get_vertices():\n",
    "        if v not in visited:\n",
    "            explore(v)\n",
    "    return order, pre, post"
   ]
  },
  {
   "cell_type": "code",
   "execution_count": null,
   "metadata": {},
   "outputs": [],
   "source": [
    "g31 = Graph()   # exercise 3.1 graph \n",
    "g31.add_edge('a','b')\n",
    "g31.add_edge('a','e')\n",
    "g31.add_edge('b','b')\n",
    "g31.add_edge('b','e')\n",
    "g31.add_edge('c','f')\n",
    "g31.add_edge('e','f')\n",
    "g31.add_edge('f','i')\n",
    "g31.add_edge('d', 'g')\n",
    "g31.add_edge('g', 'h')\n",
    "g31.add_edge('h', 'd')\n",
    "order, pre, post = dfs(g31, 'a')\n",
    "print(order)\n",
    "print(pre)\n",
    "print(post)"
   ]
  },
  {
   "cell_type": "markdown",
   "metadata": {},
   "source": [
    "### Adding pre/post order numbering"
   ]
  },
  {
   "cell_type": "code",
   "execution_count": null,
   "metadata": {},
   "outputs": [],
   "source": [
    "from typing import List, Tuple, TypeVar\n",
    "T = TypeVar(\"T\")\n",
    "\n",
    "def dfs(g: Graph, v:T) -> List[T]:\n",
    "\n",
    "    def explore(v: T) -> None:\n",
    "        nonlocal clock\n",
    "        visited[v] = True\n",
    "        order.append(v)\n",
    "        pre[v] = clock\n",
    "        clock += 1\n",
    "\n",
    "        for e in g.get_edges(v):\n",
    "            if not visited[e]:\n",
    "                edge_to[e] = v\n",
    "                explore(e)\n",
    "        post[v] = clock\n",
    "        clock += 1\n",
    "\n",
    "    order = []\n",
    "    visited = {k : False for k in g.get_vertices()}\n",
    "    pre = {}\n",
    "    post = {}\n",
    "    edge_to = {}\n",
    "    clock = 0\n",
    " \n",
    "    for v in g.get_vertices():\n",
    "        if not visited[v]:\n",
    "            explore(v)\n",
    "    return order, pre, post, edge_to"
   ]
  },
  {
   "cell_type": "code",
   "execution_count": null,
   "metadata": {},
   "outputs": [],
   "source": [
    "order, pre, post, edge_to = dfs(g, 'a')"
   ]
  },
  {
   "cell_type": "code",
   "execution_count": null,
   "metadata": {},
   "outputs": [],
   "source": [
    "order,pre,post,edge_to"
   ]
  },
  {
   "cell_type": "code",
   "execution_count": null,
   "metadata": {},
   "outputs": [],
   "source": [
    "def path(edge_to, x:T, y:T):\n",
    "    s = []\n",
    "    curr = y\n",
    "    while curr != x:\n",
    "        s.append(curr)\n",
    "        curr = edge_to[curr]\n",
    "    s.append(x)\n",
    "    return s\n"
   ]
  },
  {
   "cell_type": "code",
   "execution_count": null,
   "metadata": {},
   "outputs": [],
   "source": [
    "path(edge_to, 'a', 'i')"
   ]
  },
  {
   "cell_type": "markdown",
   "metadata": {},
   "source": [
    "## Directed Graphs"
   ]
  },
  {
   "cell_type": "code",
   "execution_count": null,
   "metadata": {},
   "outputs": [],
   "source": [
    "class DiGraph(Graph):\n",
    "\n",
    "    def __init__(self):\n",
    "        super().__init__()\n",
    "\n",
    "    def add_edge(self, v:T, u:T):\n",
    "        if v not in self.get_vertices():\n",
    "            self._vertices[v] = []\n",
    "        if u not in self._vertices:\n",
    "            self._vertices[u] = []\n",
    "\n",
    "        self._vertices[v].append(u)  # only append in one direction\n",
    "  "
   ]
  },
  {
   "cell_type": "markdown",
   "metadata": {},
   "source": [
    "A function to read a file of edges and return the DiGraph"
   ]
  },
  {
   "cell_type": "code",
   "execution_count": null,
   "metadata": {},
   "outputs": [],
   "source": [
    "def build_digraph(fn: str) -> DiGraph:\n",
    "    f = open(fn)\n",
    "    dg = DiGraph()\n",
    "    for line in f:\n",
    "        (u,v) = line.strip().split(' ')\n",
    "        dg.add_edge(u,v)\n",
    "    \n",
    "    return dg\n"
   ]
  },
  {
   "cell_type": "markdown",
   "metadata": {},
   "source": [
    "## DFS with Stack"
   ]
  },
  {
   "cell_type": "code",
   "execution_count": null,
   "metadata": {},
   "outputs": [],
   "source": [
    "def dfs(g: Graph, v:T):\n",
    "    order = []\n",
    "    visited = { }\n",
    "    s = Stack()\n",
    "    s.push(v)\n",
    "\n",
    "    while len(s) > 0:\n",
    "        curr = s.pop()\n",
    "        if curr not in visited:\n",
    "            visited[curr] = True\n",
    "            order.append(curr)\n",
    "            for e in g.get_edges(curr):\n",
    "                if e not in visited:\n",
    "                    s.push(e)\n",
    "    return order\n",
    "\n"
   ]
  },
  {
   "cell_type": "markdown",
   "metadata": {},
   "source": [
    "## Breadth First Search (BFS)"
   ]
  },
  {
   "cell_type": "code",
   "execution_count": null,
   "metadata": {},
   "outputs": [],
   "source": [
    "from collections import deque\n",
    "\n",
    "def bfs(g: Graph, v:T) -> Tuple[List[T], Dict[T,T]]:\n",
    "    order = []\n",
    "    visited = { }\n",
    "    q = deque()\n",
    "    q.appendleft(v)\n",
    "    prev = dict()\n",
    "\n",
    "    while len(q) > 0:\n",
    "        curr = q.pop()  # removes right item in queue\n",
    "        if curr not in visited:\n",
    "            visited[curr] = True\n",
    "            order.append(curr)\n",
    "            for e in g.get_edges(curr):\n",
    "                if e not in visited:\n",
    "                    q.appendleft(e)\n",
    "                    prev[e] = curr\n",
    "    return order, prev\n",
    "\n"
   ]
  },
  {
   "cell_type": "code",
   "execution_count": null,
   "metadata": {},
   "outputs": [],
   "source": [
    "dg = build_digraph('dg.txt')"
   ]
  },
  {
   "cell_type": "code",
   "execution_count": null,
   "metadata": {},
   "outputs": [],
   "source": [
    "order, prev = bfs(dg,'7')"
   ]
  },
  {
   "cell_type": "code",
   "execution_count": null,
   "metadata": {},
   "outputs": [],
   "source": [
    "def path(prev: Dict[T,T], x:T, y:T):\n",
    "    s = []\n",
    "    curr = y\n",
    "    while curr != x:\n",
    "        s.append(curr)\n",
    "        curr = prev[curr]\n",
    "    s.append(x)\n",
    "    return s[::-1]\n"
   ]
  },
  {
   "cell_type": "code",
   "execution_count": null,
   "metadata": {},
   "outputs": [],
   "source": [
    "print(path(prev, '7', '12'))"
   ]
  },
  {
   "cell_type": "code",
   "execution_count": null,
   "metadata": {},
   "outputs": [],
   "source": [
    "prev"
   ]
  },
  {
   "cell_type": "markdown",
   "metadata": {},
   "source": [
    "## Exercise - BFS\n",
    "Do a BFS if the following graph starting at Boston and showing the state of the Queue at each step.\n",
    "\n",
    "Also show the `prev` dictionary. Assume each city is a layover on a train ride. What path minimizes the number of layovers from Boston to Miami. Use abbreviartions for citinames like Bos, Det, LA"
   ]
  },
  {
   "cell_type": "markdown",
   "metadata": {},
   "source": [
    "![USA](images/USA-unweighted.png)"
   ]
  },
  {
   "cell_type": "code",
   "execution_count": null,
   "metadata": {},
   "outputs": [],
   "source": []
  }
 ],
 "metadata": {
  "kernelspec": {
   "display_name": "Python 3",
   "language": "python",
   "name": "python3"
  },
  "language_info": {
   "codemirror_mode": {
    "name": "ipython",
    "version": 3
   },
   "file_extension": ".py",
   "mimetype": "text/x-python",
   "name": "python",
   "nbconvert_exporter": "python",
   "pygments_lexer": "ipython3",
   "version": "3.8.3"
  }
 },
 "nbformat": 4,
 "nbformat_minor": 4
}
