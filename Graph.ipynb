{
 "cells": [
  {
   "cell_type": "markdown",
   "metadata": {},
   "source": [
    "# Graph Algorithms"
   ]
  },
  {
   "cell_type": "markdown",
   "metadata": {},
   "source": [
    "## Undirected Graph"
   ]
  },
  {
   "cell_type": "code",
   "execution_count": 1,
   "metadata": {},
   "outputs": [],
   "source": [
    "from typing import TypeVar, List, Dict, Tuple\n",
    "T = TypeVar(\"T\")\n",
    "\n",
    "class Graph:\n",
    "    \"\"\"\n",
    "    An undirected Graph with adjacency lists (dictionary)\n",
    "    \"\"\"\n",
    "\n",
    "    def __init__(self):\n",
    "        \"\"\"\n",
    "        Constructor\n",
    "        \"\"\"\n",
    "        self._vertices: Dict[T, List[T]] = {}\n",
    "\n",
    "    def add_edge(self, v: T, u: T) -> None:\n",
    "        \"\"\"\n",
    "        Add an edge between v and u to the graph\n",
    "        \"\"\"\n",
    "        if v not in self._vertices:\n",
    "            self._vertices[v] = []\n",
    "        if u not in self._vertices:\n",
    "            self._vertices[u] = []\n",
    "\n",
    "        self._vertices[v].append(u)\n",
    "        self._vertices[u].append(v)\n",
    "\n",
    "    def get_edges(self, v:T):\n",
    "        \"\"\"\n",
    "        Return the list of edges for vertex v \n",
    "        \"\"\"\n",
    "        return self._vertices[v]\n",
    "    \n",
    "    def get_vertices(self) -> List[T]:\n",
    "        \"\"\"\n",
    "        Return the list of the vertices in the graph\n",
    "        \"\"\"\n",
    "        return self._vertices.keys()\n",
    "    \n",
    "    def edge_list(self) -> List[Tuple[T,T]]:\n",
    "        \"\"\"\n",
    "        Return the list of edges in the graph as a list of tuples. \n",
    "        \"\"\"\n",
    "        l = []\n",
    "        for v in self._vertices:\n",
    "            for e in self._vertices[v]:\n",
    "                l.append((v, e))\n",
    "        return l\n",
    "    \n",
    "    def __str__(self):\n",
    "        \"\"\"\n",
    "        Pretty print the adjacency lists of the graph.\n",
    "        \"\"\"\n",
    "        r = \"\"\n",
    "        for u in self.get_vertices():\n",
    "            r += \"{0} --> [\".format(u)\n",
    "            for v in self.get_edges(u):\n",
    "                r+= \"{0}, \".format(v)\n",
    "            r += '{0}{0}]\\n'.format(chr(0x8))\n",
    "        return r"
   ]
  },
  {
   "cell_type": "markdown",
   "metadata": {},
   "source": [
    "## Example graph of US cities"
   ]
  },
  {
   "cell_type": "markdown",
   "metadata": {},
   "source": [
    "![USA](images/USA-unweighted.png)"
   ]
  },
  {
   "cell_type": "code",
   "execution_count": 2,
   "metadata": {},
   "outputs": [],
   "source": [
    "# Build the Graph of US cities\n",
    "def build_cities_graph():\n",
    "    cities = Graph()\n",
    "\n",
    "    cities.add_edge(\"Seattle\", \"Chicago\")\n",
    "    cities.add_edge(\"Seattle\", \"San Francisco\")\n",
    "    cities.add_edge(\"San Francisco\", \"Riverside\")\n",
    "    cities.add_edge(\"San Francisco\", \"Los Angeles\")\n",
    "    cities.add_edge(\"Los Angeles\", \"Riverside\")\n",
    "    cities.add_edge(\"Los Angeles\", \"Phoenix\")\n",
    "    cities.add_edge(\"Riverside\", \"Phoenix\")\n",
    "    cities.add_edge(\"Riverside\", \"Chicago\")\n",
    "    cities.add_edge(\"Phoenix\", \"Dallas\")\n",
    "    cities.add_edge(\"Phoenix\", \"Houston\")\n",
    "    cities.add_edge(\"Dallas\", \"Chicago\")\n",
    "    cities.add_edge(\"Dallas\", \"Atlanta\")\n",
    "    cities.add_edge(\"Dallas\", \"Houston\")\n",
    "    cities.add_edge(\"Houston\", \"Atlanta\")\n",
    "    cities.add_edge(\"Houston\", \"Miami\")\n",
    "    cities.add_edge(\"Atlanta\", \"Chicago\")\n",
    "    cities.add_edge(\"Atlanta\", \"Washington\")\n",
    "    cities.add_edge(\"Atlanta\", \"Miami\")\n",
    "    cities.add_edge(\"Miami\", \"Washington\")\n",
    "    cities.add_edge(\"Chicago\", \"Detroit\")\n",
    "    cities.add_edge(\"Detroit\", \"Boston\")\n",
    "    cities.add_edge(\"Detroit\", \"Washington\")\n",
    "    cities.add_edge(\"Detroit\", \"New York\")\n",
    "    cities.add_edge(\"Boston\", \"New York\")\n",
    "    cities.add_edge(\"New York\", \"Philadelphia\")\n",
    "    cities.add_edge(\"Philadelphia\", \"Washington\")\n",
    "    return cities"
   ]
  },
  {
   "cell_type": "code",
   "execution_count": 3,
   "metadata": {},
   "outputs": [
    {
     "name": "stdout",
     "output_type": "stream",
     "text": [
      "Seattle --> [Chicago, San Francisco]\n",
      "Chicago --> [Seattle, Riverside, Dallas, Atlanta, Detroit]\n",
      "San Francisco --> [Seattle, Riverside, Los Angeles]\n",
      "Riverside --> [San Francisco, Los Angeles, Phoenix, Chicago]\n",
      "Los Angeles --> [San Francisco, Riverside, Phoenix]\n",
      "Phoenix --> [Los Angeles, Riverside, Dallas, Houston]\n",
      "Dallas --> [Phoenix, Chicago, Atlanta, Houston]\n",
      "Houston --> [Phoenix, Dallas, Atlanta, Miami]\n",
      "Atlanta --> [Dallas, Houston, Chicago, Washington, Miami]\n",
      "Miami --> [Houston, Atlanta, Washington]\n",
      "Washington --> [Atlanta, Miami, Detroit, Philadelphia]\n",
      "Detroit --> [Chicago, Boston, Washington, New York]\n",
      "Boston --> [Detroit, New York]\n",
      "New York --> [Detroit, Boston, Philadelphia]\n",
      "Philadelphia --> [New York, Washington]\n",
      "\n"
     ]
    }
   ],
   "source": [
    "g = build_cities_graph()\n",
    "print(g) # use __str__ method to pretty print adjacency lists"
   ]
  },
  {
   "cell_type": "markdown",
   "metadata": {},
   "source": [
    "### Graphviz graph visualization module\n",
    "\n",
    "Sometimes it is helpful to be able to draw the graph using [Graphviz](https://graphviz.readthedocs.io/)\n",
    "\n",
    "Need to do the following\n",
    "\n",
    "```\n",
    "conda install graphviz\n",
    "conda install pytho-graphviz\n",
    "```"
   ]
  },
  {
   "cell_type": "code",
   "execution_count": 4,
   "metadata": {},
   "outputs": [
    {
     "ename": "ModuleNotFoundError",
     "evalue": "No module named 'graphviz'",
     "output_type": "error",
     "traceback": [
      "\u001b[1;31m---------------------------------------------------------------------------\u001b[0m",
      "\u001b[1;31mModuleNotFoundError\u001b[0m                       Traceback (most recent call last)",
      "\u001b[1;32m<ipython-input-4-194a715db331>\u001b[0m in \u001b[0;36m<module>\u001b[1;34m\u001b[0m\n\u001b[1;32m----> 1\u001b[1;33m \u001b[1;32mimport\u001b[0m \u001b[0mgraphviz\u001b[0m\u001b[1;33m\u001b[0m\u001b[1;33m\u001b[0m\u001b[0m\n\u001b[0m\u001b[0;32m      2\u001b[0m \u001b[1;33m\u001b[0m\u001b[0m\n\u001b[0;32m      3\u001b[0m \u001b[1;32mdef\u001b[0m \u001b[0mg2gviz\u001b[0m\u001b[1;33m(\u001b[0m\u001b[0mg\u001b[0m\u001b[1;33m:\u001b[0m \u001b[0mGraph\u001b[0m\u001b[1;33m,\u001b[0m \u001b[0mfn\u001b[0m\u001b[1;33m:\u001b[0m \u001b[0mstr\u001b[0m\u001b[1;33m)\u001b[0m \u001b[1;33m->\u001b[0m \u001b[1;32mNone\u001b[0m\u001b[1;33m:\u001b[0m\u001b[1;33m\u001b[0m\u001b[1;33m\u001b[0m\u001b[0m\n\u001b[0;32m      4\u001b[0m     \"\"\"\n\u001b[0;32m      5\u001b[0m     \u001b[0mA\u001b[0m \u001b[0mfunction\u001b[0m \u001b[0mto\u001b[0m \u001b[1;32mreturn\u001b[0m \u001b[0ma\u001b[0m \u001b[0mgraphviz\u001b[0m \u001b[0mgraph\u001b[0m \u001b[1;32mfrom\u001b[0m \u001b[0mone\u001b[0m \u001b[0mof\u001b[0m \u001b[0mour\u001b[0m \u001b[0mGraph\u001b[0m \u001b[0mobjects\u001b[0m\u001b[1;33m\u001b[0m\u001b[1;33m\u001b[0m\u001b[0m\n",
      "\u001b[1;31mModuleNotFoundError\u001b[0m: No module named 'graphviz'"
     ]
    }
   ],
   "source": [
    "import graphviz\n",
    "\n",
    "def g2gviz(g: Graph, fn: str) -> None:\n",
    "    \"\"\"\n",
    "    A function to return a graphviz graph from one of our Graph objects\n",
    "    \"\"\"\n",
    "    if isinstance(g,DiGraph):\n",
    "        print(\"generating graphviz Digraph\")\n",
    "        gv = graphviz.Digraph(format = 'png', filename = fn)\n",
    "    elif isinstance(g, Graph):\n",
    "        print(\"generating graphviz Graph\")\n",
    "        gv = graphviz.Graph(format = 'png', filename = fn)\n",
    "        \n",
    "    edges = g.edge_list()\n",
    "    nodups = []\n",
    "    \n",
    "    # remove the duplicate edges one of (u,v) or (v,u)\n",
    "    for (u,v) in edges:\n",
    "        if (v,u) not in nodups:\n",
    "            nodups.append((u,v))\n",
    "        \n",
    "    for (u,v) in nodups:\n",
    "        gv.edge(u,v)\n",
    "        \n",
    "    return gv"
   ]
  },
  {
   "cell_type": "code",
   "execution_count": null,
   "metadata": {},
   "outputs": [],
   "source": [
    "gv = g2gviz(g,'states')\n",
    "gv.render(filename='states.dot')"
   ]
  },
  {
   "cell_type": "markdown",
   "metadata": {},
   "source": [
    "<img src = \"states.dot.png\" width=\"50%\" />"
   ]
  },
  {
   "cell_type": "markdown",
   "metadata": {},
   "source": [
    "## Depth First Search (DFS)\n",
    "\n",
    "Keep track of pre and post visit numbers"
   ]
  },
  {
   "cell_type": "code",
   "execution_count": null,
   "metadata": {},
   "outputs": [],
   "source": [
    "def dfs(g: Graph, v:T) -> Tuple[List[T], Dict[T,int], Dict[T, int]]:\n",
    "\n",
    "    def explore(v:T):\n",
    "        nonlocal clock # clock is defined in the outer scope\n",
    "        visited[v] = True\n",
    "        order.append(v)\n",
    "        pre[v] = clock\n",
    "        clock += 1\n",
    "        \n",
    "        for e in g.get_edges(v):\n",
    "            if e not in visited:\n",
    "                explore(e)\n",
    "                \n",
    "        post[v] = clock\n",
    "        clock += 1\n",
    "\n",
    "    # The main part of the DFS function\n",
    "    order = []        # The DFS order\n",
    "    visited = dict()  # The visited dictionary\n",
    "    pre = dict()      # prevsit number dictionary\n",
    "    post = dict()     # postvisit number dictionary\n",
    "    clock = 0         # counter for numbers pre/post visits\n",
    "    \n",
    "    explore(v)\n",
    "    \n",
    "    for v in g.get_vertices():\n",
    "        if v not in visited:\n",
    "            explore(v)\n",
    "    return order, pre, post"
   ]
  },
  {
   "cell_type": "code",
   "execution_count": null,
   "metadata": {},
   "outputs": [],
   "source": [
    "# Example graph from exercise 3.1 graph \n",
    "g31 = Graph()  \n",
    "g31.add_edge('a','b')\n",
    "g31.add_edge('a','e')\n",
    "g31.add_edge('b','c')\n",
    "g31.add_edge('b','e')\n",
    "g31.add_edge('c','f')\n",
    "g31.add_edge('e','f')\n",
    "g31.add_edge('f','i')\n",
    "g31.add_edge('d', 'g')\n",
    "g31.add_edge('g', 'h')\n",
    "g31.add_edge('h', 'd')\n",
    "order, pre, post = dfs(g31, 'a')\n",
    "print(order)\n",
    "print(pre)\n",
    "print(post)"
   ]
  },
  {
   "cell_type": "code",
   "execution_count": null,
   "metadata": {},
   "outputs": [],
   "source": [
    "gv = g2gviz(g31,'exercise31.png')\n",
    "gv"
   ]
  },
  {
   "cell_type": "markdown",
   "metadata": {},
   "source": [
    "## Directed Graphs\n",
    "\n",
    "Inherits the graph class and override the `add_edge` function so we just add an edge in one direction"
   ]
  },
  {
   "cell_type": "code",
   "execution_count": null,
   "metadata": {},
   "outputs": [],
   "source": [
    "class DiGraph(Graph):\n",
    "\n",
    "    def __init__(self):\n",
    "        super().__init__()\n",
    "\n",
    "    def add_edge(self, v:T, u:T):\n",
    "        if v not in self.get_vertices():\n",
    "            self._vertices[v] = []\n",
    "        if u not in self._vertices:\n",
    "            self._vertices[u] = []\n",
    "\n",
    "        self._vertices[v].append(u)  # only append in one direction\n",
    "  "
   ]
  },
  {
   "cell_type": "markdown",
   "metadata": {},
   "source": [
    "A helper function to read a file of edges and return the DiGraph. "
   ]
  },
  {
   "cell_type": "code",
   "execution_count": null,
   "metadata": {},
   "outputs": [],
   "source": [
    "def build_digraph(fn: str, sep=' ') -> DiGraph:\n",
    "    f = open(fn)\n",
    "    dg = DiGraph()\n",
    "    for line in f:\n",
    "        (u,v) = line.strip().split(sep)\n",
    "        dg.add_edge(u,v)\n",
    "    \n",
    "    return dg\n"
   ]
  },
  {
   "cell_type": "markdown",
   "metadata": {},
   "source": [
    "## DFS with Stack\n",
    "\n",
    "Replace recursion using a stack "
   ]
  },
  {
   "cell_type": "code",
   "execution_count": null,
   "metadata": {},
   "outputs": [],
   "source": [
    "def dfs(g: Graph, v:T):\n",
    "    order = []\n",
    "    visited = { }\n",
    "    s = []         # use a list as a stack\n",
    "    s.append(v)    # initialize stack with starting vertex \n",
    "\n",
    "    while len(s) > 0:\n",
    "        curr = s.pop()\n",
    "        \n",
    "        if curr not in visited:\n",
    "            visited[curr] = True\n",
    "            order.append(curr)\n",
    "            for e in g.get_edges(curr):\n",
    "                if e not in visited:\n",
    "                    s.append(e)\n",
    "    return order\n",
    "\n"
   ]
  },
  {
   "cell_type": "markdown",
   "metadata": {},
   "source": [
    "## Breadth First Search (BFS)\n",
    "\n",
    "Breadth First Search use a queue. We use a double ended queue called `deque` pronounced _deck_.  Ntice this is the same as the Depth First Search where we just replace the stack with a queue."
   ]
  },
  {
   "cell_type": "code",
   "execution_count": null,
   "metadata": {},
   "outputs": [],
   "source": [
    "from collections import deque\n",
    "\n",
    "def bfs(g: Graph, v:T) -> Tuple[List[T], Dict[T,T]]:\n",
    "    order = []       # The breadth first order\n",
    "    visited = { }    # te visited dictionary\n",
    "    q = deque()      # the queue\n",
    "    q.appendleft(v)  # initialize the queue with the starting vertex\n",
    "    prev = dict()    # the previous dictionary for reconstructing paths\n",
    "\n",
    "    while len(q) > 0:\n",
    "        curr = q.pop()          # removes item in queue\n",
    "        if curr not in visited:\n",
    "            visited[curr] = True\n",
    "            order.append(curr)\n",
    "            for e in g.get_edges(curr):\n",
    "                if e not in visited:\n",
    "                    q.appendleft(e)\n",
    "                    prev[e] = curr\n",
    "    return order, prev"
   ]
  },
  {
   "cell_type": "markdown",
   "metadata": {},
   "source": [
    "## Example Digraph "
   ]
  },
  {
   "cell_type": "code",
   "execution_count": null,
   "metadata": {},
   "outputs": [],
   "source": [
    "dg = build_digraph('dg.txt')\n",
    "gv = g2gviz(dg,'states')\n",
    "gv.render(filename='digraph_example.dot')"
   ]
  },
  {
   "cell_type": "markdown",
   "metadata": {},
   "source": [
    "Here is the image we've been using in the class and lectures for the above digraph \n",
    "\n",
    "<img src = \"images/dirgraph_sedgewick.png\" width = \"25%\"/>"
   ]
  },
  {
   "cell_type": "markdown",
   "metadata": {},
   "source": [
    "And here is how graphviz renders it. Which do you like better? \n",
    "\n",
    "<img src = \"digraph_example.dot.png\" width = \"50%\"/>"
   ]
  },
  {
   "cell_type": "code",
   "execution_count": null,
   "metadata": {},
   "outputs": [],
   "source": [
    "order, prev = bfs(dg,'7')"
   ]
  },
  {
   "cell_type": "markdown",
   "metadata": {},
   "source": [
    "## Example DiGraph"
   ]
  },
  {
   "cell_type": "code",
   "execution_count": null,
   "metadata": {},
   "outputs": [],
   "source": [
    "dg = build_digraph('dg2.txt', sep=',')\n",
    "gv = g2gviz(dg,'levitin4_2_9')\n",
    "gv.render(filename='levitin4_2_9.dot')\n"
   ]
  },
  {
   "cell_type": "markdown",
   "metadata": {},
   "source": [
    "<img src = \"levitin4_2_9.dot.png\" width = \"25%\"/>"
   ]
  },
  {
   "cell_type": "markdown",
   "metadata": {},
   "source": [
    "## Reconstructing Paths from the `prev` dictionary"
   ]
  },
  {
   "cell_type": "code",
   "execution_count": null,
   "metadata": {},
   "outputs": [],
   "source": [
    "def path(prev: Dict[T,T], x:T, y:T):\n",
    "    s = []\n",
    "    curr = y\n",
    "    while curr != x:\n",
    "        s.append(curr)\n",
    "        curr = prev[curr]\n",
    "    s.append(x)\n",
    "    return s[::-1]\n"
   ]
  },
  {
   "cell_type": "code",
   "execution_count": null,
   "metadata": {},
   "outputs": [],
   "source": [
    "print(path(prev, '7', '12'))"
   ]
  },
  {
   "cell_type": "code",
   "execution_count": null,
   "metadata": {},
   "outputs": [],
   "source": [
    "prev"
   ]
  },
  {
   "cell_type": "markdown",
   "metadata": {},
   "source": [
    "## Exercise - BFS\n",
    "Do a BFS if the following graph starting at Boston and showing the state of the Queue at each step.\n",
    "\n",
    "Also show the `prev` dictionary. Assume each city is a layover on a train ride. What path minimizes the number of layovers from Boston to Miami. Use abbreviations for city names like Bos, Det, LA"
   ]
  },
  {
   "cell_type": "markdown",
   "metadata": {},
   "source": [
    "![USA](images/USA-unweighted.png)"
   ]
  },
  {
   "cell_type": "code",
   "execution_count": null,
   "metadata": {},
   "outputs": [],
   "source": [
    "order,prev = bfs(g,'Boston')"
   ]
  },
  {
   "cell_type": "code",
   "execution_count": null,
   "metadata": {},
   "outputs": [],
   "source": [
    "prev"
   ]
  },
  {
   "cell_type": "markdown",
   "metadata": {},
   "source": [
    "## Shortest Path in an unweighted graph"
   ]
  },
  {
   "cell_type": "code",
   "execution_count": null,
   "metadata": {},
   "outputs": [],
   "source": [
    "from collections import deque\n",
    "\n",
    "def shortest_paths(g: Graph, v:T) -> Tuple[Dict[T,T], Dict[T,T]]:\n",
    "    dist = dict()   # distance dictionary \n",
    "    q = deque()     # queue\n",
    "    q.appendleft(v) # initialize queue\n",
    "    prev = dict()   # previous dictionary\n",
    "    dist[v] = 0     \n",
    "\n",
    "    while len(q) > 0:\n",
    "        print(q)\n",
    "        curr = q.pop()        # removes right item in queue\n",
    "        for e in g.get_edges(curr):\n",
    "            if e not in dist:\n",
    "                q.appendleft(e)\n",
    "                dist[e] = dist[curr] + 1\n",
    "                prev[e] = curr\n",
    "    return dist, prev"
   ]
  },
  {
   "cell_type": "code",
   "execution_count": null,
   "metadata": {},
   "outputs": [],
   "source": [
    "dist,prev = shortest_paths(g, 'Boston')"
   ]
  },
  {
   "cell_type": "markdown",
   "metadata": {},
   "source": [
    "# Weighted Graphs"
   ]
  },
  {
   "cell_type": "markdown",
   "metadata": {},
   "source": [
    "<img src=\"images/USA-weighted.png\" />"
   ]
  },
  {
   "cell_type": "markdown",
   "metadata": {},
   "source": [
    "The shortest path from Boston to Miami is not the path that visits the fewest vertices\n",
    "\n",
    "```\n",
    "Boston -> Detroit -> Washington -> Miami\n",
    "```\n",
    "\n",
    "but \n",
    "\n",
    "```\n",
    "Boston -> New York -> Philadelphia -> Washington -> Miami\n",
    "```"
   ]
  },
  {
   "cell_type": "markdown",
   "metadata": {},
   "source": [
    "## Representing Weighted Graphs\n",
    "\n",
    "Are they directed or undirected?"
   ]
  },
  {
   "cell_type": "code",
   "execution_count": 10,
   "metadata": {},
   "outputs": [],
   "source": [
    "class WeightedGraph(Graph):\n",
    "    def __init__(self):\n",
    "        super().__init__()\n",
    "        \n",
    "    def add_edge(self, u: T, v: T, weight: float):\n",
    "        if v not in self._vertices:\n",
    "            self._vertices[v] = []\n",
    "        if u not in self._vertices:\n",
    "            self._vertices[u] = []\n",
    "            \n",
    "        self._vertices[v].append((u, weight))\n",
    "        self._vertices[u].append((v, weight))"
   ]
  },
  {
   "cell_type": "markdown",
   "metadata": {},
   "source": [
    "# Dikstra Algorithm"
   ]
  },
  {
   "cell_type": "code",
   "execution_count": 12,
   "metadata": {},
   "outputs": [],
   "source": [
    "from math import inf\n",
    "from typing import Set, Dict, TypeVar\n",
    "T = TypeVar('T')\n",
    "\n",
    "# s is the starting vertex\n",
    "def sp(g: WeightedGraph, s: T):\n",
    "    # dictionary comprehension\n",
    "    dist = {v: inf for v in g.get_vertices()}\n",
    "    dist[s] =  0\n",
    "    seen = set() # region R from the textbook Dikstra explanation\n",
    "    prev = dict()\n",
    "    \n",
    "    def smallest(dist: Dict[T, float], seen: Set[T]):\n",
    "        for k in dist: # for each key in the dictionary  O(|V|)\n",
    "            if k in seen:   # O(c)\n",
    "                continue\n",
    "                \n",
    "            if dist[k] < smallest_dist:         # O(c)\n",
    "                smallest_dist = dist[k]\n",
    "                smallest_v = k\n",
    "                \n",
    "        return smallest_v\n",
    "    # O(|V|)[O(|V|) + O(|E|)] = O(|V| ** 2 + )\n",
    "    while len(seen) < len(g.get_vertices()):   # O(|V|)\n",
    "        curr = smallest(dist, seen)\n",
    "        seen.add(curr)\n",
    "        for (e, w) in g.get_edges(curr):       # O(|E|)\n",
    "            if dist[curr] + w < dist[e]:\n",
    "                dist[e] = dist[curr] + w\n",
    "                prev[e] = curr\n",
    "                \n",
    "    return dist, prev "
   ]
  },
  {
   "cell_type": "code",
   "execution_count": null,
   "metadata": {},
   "outputs": [],
   "source": []
  }
 ],
 "metadata": {
  "kernelspec": {
   "display_name": "Python 3",
   "language": "python",
   "name": "python3"
  },
  "language_info": {
   "codemirror_mode": {
    "name": "ipython",
    "version": 3
   },
   "file_extension": ".py",
   "mimetype": "text/x-python",
   "name": "python",
   "nbconvert_exporter": "python",
   "pygments_lexer": "ipython3",
   "version": "3.8.3"
  }
 },
 "nbformat": 4,
 "nbformat_minor": 4
}
