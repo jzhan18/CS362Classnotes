{
 "cells": [
  {
   "cell_type": "markdown",
   "metadata": {},
   "source": [
    "# Fermat's Little Theorem\n",
    "If p is prime, then $a^{p-1}$ mod p = 1"
   ]
  },
  {
   "cell_type": "code",
   "execution_count": 4,
   "metadata": {},
   "outputs": [],
   "source": [
    "import random\n",
    "def modexp(x: int, y: int, m: int) -> int:\n",
    "    if y == 0:\n",
    "        return 1\n",
    "    elif y & 1 == 0:\n",
    "        tmp = modexp(x, y >> 1,m)\n",
    "        return (tmp % m) * (tmp % m) % m\n",
    "    else:\n",
    "        tmp = modexp(x, y >> 1, m)\n",
    "        return (x % m) * (tmp % m) * (tmp % m) % m\n",
    "    \n",
    "def probablyPrime(N:int) -> bool:\n",
    "    def primality(N: int) -> bool:\n",
    "        a = random.randrange(1, N)\n",
    "        return modexp(a, N-1, N) == 1\n",
    "    \n",
    "    for i in range(200):\n",
    "        if primality(N):\n",
    "            continue\n",
    "        else:\n",
    "            return False\n",
    "    return True"
   ]
  },
  {
   "cell_type": "code",
   "execution_count": 11,
   "metadata": {},
   "outputs": [
    {
     "name": "stdout",
     "output_type": "stream",
     "text": [
      "3322063914338111465461774981116206374810263617006566711253823071718609220751671427907284477420163596017008656417365515064277808874243004650233366684910331\n",
      "Found prime in 1113 attempts\n"
     ]
    }
   ],
   "source": [
    "i = 0\n",
    "while True:\n",
    "    x = random.randrange(2**512)\n",
    "    i += 1\n",
    "    if probablyPrime(x):\n",
    "        print(x)\n",
    "        print(\"Found prime in\", i, \"attempts\")\n",
    "        break"
   ]
  },
  {
   "cell_type": "code",
   "execution_count": null,
   "metadata": {},
   "outputs": [],
   "source": []
  },
  {
   "cell_type": "code",
   "execution_count": null,
   "metadata": {},
   "outputs": [],
   "source": []
  }
 ],
 "metadata": {
  "kernelspec": {
   "display_name": "Python 3",
   "language": "python",
   "name": "python3"
  },
  "language_info": {
   "codemirror_mode": {
    "name": "ipython",
    "version": 3
   },
   "file_extension": ".py",
   "mimetype": "text/x-python",
   "name": "python",
   "nbconvert_exporter": "python",
   "pygments_lexer": "ipython3",
   "version": "3.8.3"
  }
 },
 "nbformat": 4,
 "nbformat_minor": 4
}
