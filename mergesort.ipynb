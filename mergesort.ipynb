{
 "cells": [
  {
   "cell_type": "code",
   "execution_count": 25,
   "metadata": {},
   "outputs": [],
   "source": [
    "from typing import List, TypeVar\n",
    "T = TypeVar(\"T\")\n",
    "\n",
    "def merge(l1:List[T], l2: List[T]) -> List[T]:\n",
    "    \"\"\"\n",
    "    Merge two ordered lists.\n",
    "    :return: ordered list\n",
    "    \"\"\"\n",
    "    r = []\n",
    "    l1_pos = 0\n",
    "    l2_pos = 0\n",
    "\n",
    "    while l1_pos < len(l1) and l2_pos < len(l2):\n",
    "        if l1[l1_pos] <= l2[l2_pos]:\n",
    "            r.append(l1[l1_pos])\n",
    "            l1_pos += 1\n",
    "        elif l2[l2_pos] <= l1[l1_pos]:\n",
    "            r.append(l2[l2_pos])\n",
    "            l2_pos += 1\n",
    "\n",
    "    # We have reached the end of one of the lists \n",
    "    \n",
    "    while l1_pos < len(l1):   # what's left of l1\n",
    "        r.append(l1[l1_pos])\n",
    "        l1_pos += 1\n",
    "\n",
    "    while l2_pos < len(l2):   # what's left of l2\n",
    "        r.append(l2[l2_pos])\n",
    "        l2_pos += 1\n",
    "\n",
    "    return r\n"
   ]
  },
  {
   "cell_type": "code",
   "execution_count": 40,
   "metadata": {},
   "outputs": [],
   "source": [
    "import time\n",
    "def timeit(func):\n",
    "    \"\"\"\n",
    "    A decorator that times the function func with the arguments that\n",
    "    are passed to it\n",
    "    :param func: Function being timed\n",
    "    :return: func's result\n",
    "    \"\"\"\n",
    "    def clocked(*args, **kwargs):\n",
    "        t0 = time.perf_counter()\n",
    "        result = func(*args, **kwargs)\n",
    "        elapsed = time.perf_counter() - t0\n",
    "        name = func.__name__\n",
    "        print('[%0.8fs] %s' % (elapsed, name))\n",
    "        return result\n",
    "    return clocked\n"
   ]
  },
  {
   "cell_type": "code",
   "execution_count": 41,
   "metadata": {},
   "outputs": [],
   "source": [
    "@timeit\n",
    "def msort(l: List[T]) -> List[T]:\n",
    "    def mergesort(l: List [T]):\n",
    "        if len(l) <= 1:\n",
    "            return l\n",
    "        else:\n",
    "            l1,l2 =  l[:len(l)//2],l[len(l)//2:]\n",
    "            return merge(mergesort(l1),mergesort(l2))\n",
    "    \n",
    "    return mergesort(l)"
   ]
  },
  {
   "cell_type": "code",
   "execution_count": 42,
   "metadata": {},
   "outputs": [
    {
     "name": "stdout",
     "output_type": "stream",
     "text": [
      "[4, 7, 5, 1, 2, 0, 3, 6]\n",
      "[4, 7, 5, 1, 2, 0, 3, 6]\n"
     ]
    }
   ],
   "source": [
    "import random\n",
    "n = 8\n",
    "lst = [i for i in range(n)]\n",
    "random.shuffle(lst)\n",
    "print(lst)\n",
    "print(msort(lst))"
   ]
  },
  {
   "cell_type": "code",
   "execution_count": 50,
   "metadata": {},
   "outputs": [],
   "source": [
    "#Page 51 of Textbook\n",
    "from collections import deque\n",
    "\n",
    "@timeit\n",
    "def mergesort_with_queue(lst: List[T]) -> List[T]:\n",
    "\n",
    "    q = deque()        # lst = [4, 0, 1]\n",
    "    for x in lst:      # [[4], [0], [1]]\n",
    "        q.append([x])\n",
    "\n",
    "    while len(q) > 1:\n",
    "        t = merge(q.popleft(), q.popleft())\n",
    "        q.append(t)\n",
    "    return q.popleft()\n"
   ]
  },
  {
   "cell_type": "code",
   "execution_count": 52,
   "metadata": {},
   "outputs": [
    {
     "name": "stdout",
     "output_type": "stream",
     "text": [
      "[11.14764500s] msort\n"
     ]
    }
   ],
   "source": [
    "# time how long recurive mergsort takes \n",
    "n = 1000000\n",
    "lst = [random.randrange(n) for i in range(n)]\n",
    "random.shuffle(lst)\n",
    "lst = msort(lst)"
   ]
  },
  {
   "cell_type": "code",
   "execution_count": 53,
   "metadata": {},
   "outputs": [
    {
     "name": "stdout",
     "output_type": "stream",
     "text": [
      "[12.90202510s] mergesort_with_queue\n"
     ]
    }
   ],
   "source": [
    "# time how long iterative mergsort takes \n",
    "n = 1000000\n",
    "lst = [random.randrange(n) for i in range(n)]\n",
    "random.shuffle(lst)\n",
    "lst = mergesort_with_queue(lst)"
   ]
  },
  {
   "cell_type": "code",
   "execution_count": 59,
   "metadata": {},
   "outputs": [],
   "source": [
    "@timeit\n",
    "def timsort(l):\n",
    "    return sorted(l) # builtin sort function"
   ]
  },
  {
   "cell_type": "code",
   "execution_count": 60,
   "metadata": {},
   "outputs": [
    {
     "name": "stdout",
     "output_type": "stream",
     "text": [
      "[0.54639490s] timsort\n"
     ]
    }
   ],
   "source": [
    "# time how long iterative mergsort takes \n",
    "n = 1000000\n",
    "lst = [random.randrange(n) for i in range(n)]\n",
    "random.shuffle(lst)\n",
    "lst = timsort(lst)"
   ]
  },
  {
   "cell_type": "code",
   "execution_count": null,
   "metadata": {},
   "outputs": [],
   "source": []
  }
 ],
 "metadata": {
  "kernelspec": {
   "display_name": "Python 3",
   "language": "python",
   "name": "python3"
  },
  "language_info": {
   "codemirror_mode": {
    "name": "ipython",
    "version": 3
   },
   "file_extension": ".py",
   "mimetype": "text/x-python",
   "name": "python",
   "nbconvert_exporter": "python",
   "pygments_lexer": "ipython3",
   "version": "3.8.3"
  }
 },
 "nbformat": 4,
 "nbformat_minor": 4
}
