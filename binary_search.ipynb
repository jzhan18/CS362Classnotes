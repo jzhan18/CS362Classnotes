{
 "cells": [
  {
   "cell_type": "markdown",
   "metadata": {},
   "source": [
    "# Divide And Conquer"
   ]
  },
  {
   "cell_type": "code",
   "execution_count": 7,
   "metadata": {},
   "outputs": [
    {
     "name": "stdout",
     "output_type": "stream",
     "text": [
      "Move from  1 to  2\n",
      "Move from  1 to  3\n",
      "Move from  2 to  3\n"
     ]
    }
   ],
   "source": [
    "def tower(n:int, a: int, b: int, c: int) -> None:\n",
    "        \"\"\"\n",
    "        n: # of disks\n",
    "        a: src\n",
    "        b: tmp\n",
    "        c: dst\n",
    "        \"\"\"\n",
    "        if n == 1:\n",
    "            print(\"Move from \", a, \"to \", c)\n",
    "        else:\n",
    "            tower(n-1, a, c, b)\n",
    "            print(\"Move from \", a, \"to \", c)\n",
    "            tower(n-1, b, a, c)\n",
    "        \n",
    "tower(2, 1, 2, 3)        "
   ]
  },
  {
   "cell_type": "markdown",
   "metadata": {},
   "source": [
    "## Sum of a list"
   ]
  },
  {
   "cell_type": "code",
   "execution_count": 8,
   "metadata": {},
   "outputs": [],
   "source": [
    "from typing import List\n",
    "def sumdac(lst: List[int], left: int, right: int) -> int:\n",
    "    \n",
    "    if left == right:                                                 # c\n",
    "        return lst[left]                                              # c\n",
    "    elif left > right:                                                # c\n",
    "        return 0                                                      # c\n",
    "    else:\n",
    "        mid = (left + right) // 2                                     # c\n",
    "        return sumdac(lst, left, mid) + sumdac(lst, mid+1, right)     # c"
   ]
  },
  {
   "cell_type": "code",
   "execution_count": 10,
   "metadata": {},
   "outputs": [
    {
     "name": "stdout",
     "output_type": "stream",
     "text": [
      "[1, 0, 4, 3, 3, 2, 1, 8]\n",
      "22\n"
     ]
    }
   ],
   "source": [
    "import random\n",
    "random.seed(42)\n",
    "lst = [random.randrange(10) for i in range(8)]\n",
    "print(lst)\n",
    "print(sumdac(lst, 0, len(lst)-1))"
   ]
  },
  {
   "cell_type": "markdown",
   "metadata": {},
   "source": [
    "## Binary Search"
   ]
  },
  {
   "cell_type": "code",
   "execution_count": 1,
   "metadata": {},
   "outputs": [],
   "source": [
    "from typing import List, TypeVar\n",
    "T = TypeVar('T')  # T must < and == defined __lt__  __eq__  (dunder)\n",
    "\n",
    "def binary_search(l: List[T], key: T) -> int:\n",
    "    \"\"\"\n",
    "    :param l:  l[i] <= l[j] for all i,j in 0..len(l) i <= j\n",
    "    :param key:\n",
    "    :return: -1 if not found, otherwise index of where item found\n",
    "    \"\"\"\n",
    "\n",
    "    def binsearch(low: int, high: int ):\n",
    "        if low > high:\n",
    "            return -1\n",
    "\n",
    "        # mid = (low + high) // 2           # Why is this bad?\n",
    "        mid = low + (high - low)//2         # Why is this better? \n",
    "\n",
    "        if l[mid] == key:                   # indexing and == constant time\n",
    "            return mid\n",
    "        elif key < l[mid]:                   # < is constant time\n",
    "            return binsearch(low, mid - 1)\n",
    "        else:\n",
    "            return binsearch(mid + 1, high)\n",
    "\n",
    "    return binsearch(0,len(l) - 1)"
   ]
  },
  {
   "cell_type": "code",
   "execution_count": null,
   "metadata": {},
   "outputs": [],
   "source": []
  }
 ],
 "metadata": {
  "kernelspec": {
   "display_name": "Python 3",
   "language": "python",
   "name": "python3"
  },
  "language_info": {
   "codemirror_mode": {
    "name": "ipython",
    "version": 3
   },
   "file_extension": ".py",
   "mimetype": "text/x-python",
   "name": "python",
   "nbconvert_exporter": "python",
   "pygments_lexer": "ipython3",
   "version": "3.8.3"
  }
 },
 "nbformat": 4,
 "nbformat_minor": 4
}
